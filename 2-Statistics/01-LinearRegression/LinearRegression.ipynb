{
 "cells": [
  {
   "cell_type": "markdown",
   "metadata": {},
   "source": [
    "<center><h1> Linear Regression Framework </h1></center>\n",
    "<center> An introduction to statistics </center>"
   ]
  },
  {
   "cell_type": "markdown",
   "metadata": {},
   "source": [
    "# I. Import"
   ]
  },
  {
   "cell_type": "code",
   "execution_count": 65,
   "metadata": {
    "ExecuteTime": {
     "end_time": "2019-03-07T08:38:47.928846Z",
     "start_time": "2019-03-07T08:38:47.919262Z"
    }
   },
   "outputs": [],
   "source": [
    "import pandas as pd\n",
    "import numpy as np\n",
    "import matplotlib.pyplot as plt\n",
    "import sklearn.linear_model as lm\n",
    "import math\n",
    "from scipy import stats"
   ]
  },
  {
   "cell_type": "code",
   "execution_count": 36,
   "metadata": {
    "ExecuteTime": {
     "end_time": "2019-03-07T08:32:21.267606Z",
     "start_time": "2019-03-07T08:32:21.240792Z"
    }
   },
   "outputs": [
    {
     "data": {
      "text/html": [
       "<div>\n",
       "<style scoped>\n",
       "    .dataframe tbody tr th:only-of-type {\n",
       "        vertical-align: middle;\n",
       "    }\n",
       "\n",
       "    .dataframe tbody tr th {\n",
       "        vertical-align: top;\n",
       "    }\n",
       "\n",
       "    .dataframe thead th {\n",
       "        text-align: right;\n",
       "    }\n",
       "</style>\n",
       "<table border=\"1\" class=\"dataframe\">\n",
       "  <thead>\n",
       "    <tr style=\"text-align: right;\">\n",
       "      <th></th>\n",
       "      <th>year</th>\n",
       "      <th>gdp</th>\n",
       "      <th>house</th>\n",
       "      <th>interests</th>\n",
       "    </tr>\n",
       "  </thead>\n",
       "  <tbody>\n",
       "    <tr>\n",
       "      <th>0</th>\n",
       "      <td>1990</td>\n",
       "      <td>18873.4</td>\n",
       "      <td>133.3</td>\n",
       "      <td>0.065</td>\n",
       "    </tr>\n",
       "    <tr>\n",
       "      <th>1</th>\n",
       "      <td>1991</td>\n",
       "      <td>18944.0</td>\n",
       "      <td>149.3</td>\n",
       "      <td>0.066</td>\n",
       "    </tr>\n",
       "    <tr>\n",
       "      <th>2</th>\n",
       "      <td>1992</td>\n",
       "      <td>18992.7</td>\n",
       "      <td>144.2</td>\n",
       "      <td>0.064</td>\n",
       "    </tr>\n",
       "    <tr>\n",
       "      <th>3</th>\n",
       "      <td>1993</td>\n",
       "      <td>19077.6</td>\n",
       "      <td>166.4</td>\n",
       "      <td>0.069</td>\n",
       "    </tr>\n",
       "    <tr>\n",
       "      <th>4</th>\n",
       "      <td>1994</td>\n",
       "      <td>20185.9</td>\n",
       "      <td>195.0</td>\n",
       "      <td>0.071</td>\n",
       "    </tr>\n",
       "    <tr>\n",
       "      <th>5</th>\n",
       "      <td>1995</td>\n",
       "      <td>20326.4</td>\n",
       "      <td>229.8</td>\n",
       "      <td>0.070</td>\n",
       "    </tr>\n",
       "    <tr>\n",
       "      <th>6</th>\n",
       "      <td>1996</td>\n",
       "      <td>20434.2</td>\n",
       "      <td>228.7</td>\n",
       "      <td>0.072</td>\n",
       "    </tr>\n",
       "    <tr>\n",
       "      <th>7</th>\n",
       "      <td>1997</td>\n",
       "      <td>20549.2</td>\n",
       "      <td>206.1</td>\n",
       "      <td>0.072</td>\n",
       "    </tr>\n",
       "    <tr>\n",
       "      <th>8</th>\n",
       "      <td>1998</td>\n",
       "      <td>20718.0</td>\n",
       "      <td>257.9</td>\n",
       "      <td>0.074</td>\n",
       "    </tr>\n",
       "    <tr>\n",
       "      <th>9</th>\n",
       "      <td>1999</td>\n",
       "      <td>20918.3</td>\n",
       "      <td>324.1</td>\n",
       "      <td>0.075</td>\n",
       "    </tr>\n",
       "    <tr>\n",
       "      <th>10</th>\n",
       "      <td>2000</td>\n",
       "      <td>21163.9</td>\n",
       "      <td>386.6</td>\n",
       "      <td>0.077</td>\n",
       "    </tr>\n",
       "    <tr>\n",
       "      <th>11</th>\n",
       "      <td>2001</td>\n",
       "      <td>21117.8</td>\n",
       "      <td>423.0</td>\n",
       "      <td>0.079</td>\n",
       "    </tr>\n",
       "    <tr>\n",
       "      <th>12</th>\n",
       "      <td>2002</td>\n",
       "      <td>21633.1</td>\n",
       "      <td>402.3</td>\n",
       "      <td>0.080</td>\n",
       "    </tr>\n",
       "    <tr>\n",
       "      <th>13</th>\n",
       "      <td>2003</td>\n",
       "      <td>21937.7</td>\n",
       "      <td>471.5</td>\n",
       "      <td>0.081</td>\n",
       "    </tr>\n",
       "    <tr>\n",
       "      <th>14</th>\n",
       "      <td>2004</td>\n",
       "      <td>22057.5</td>\n",
       "      <td>421.9</td>\n",
       "      <td>0.081</td>\n",
       "    </tr>\n",
       "  </tbody>\n",
       "</table>\n",
       "</div>"
      ],
      "text/plain": [
       "    year      gdp  house  interests\n",
       "0   1990  18873.4  133.3      0.065\n",
       "1   1991  18944.0  149.3      0.066\n",
       "2   1992  18992.7  144.2      0.064\n",
       "3   1993  19077.6  166.4      0.069\n",
       "4   1994  20185.9  195.0      0.071\n",
       "5   1995  20326.4  229.8      0.070\n",
       "6   1996  20434.2  228.7      0.072\n",
       "7   1997  20549.2  206.1      0.072\n",
       "8   1998  20718.0  257.9      0.074\n",
       "9   1999  20918.3  324.1      0.075\n",
       "10  2000  21163.9  386.6      0.077\n",
       "11  2001  21117.8  423.0      0.079\n",
       "12  2002  21633.1  402.3      0.080\n",
       "13  2003  21937.7  471.5      0.081\n",
       "14  2004  22057.5  421.9      0.081"
      ]
     },
     "execution_count": 36,
     "metadata": {},
     "output_type": "execute_result"
    }
   ],
   "source": [
    "#Import data\n",
    "df = pd.read_csv('housing.txt', sep=\" \")\n",
    "df"
   ]
  },
  {
   "cell_type": "code",
   "execution_count": 37,
   "metadata": {
    "ExecuteTime": {
     "end_time": "2019-03-07T08:32:21.908243Z",
     "start_time": "2019-03-07T08:32:21.539866Z"
    }
   },
   "outputs": [
    {
     "data": {
      "image/png": "[encoded data removed]",
      "text/plain": [
       "<Figure size 504x360 with 1 Axes>"
      ]
     },
     "metadata": {},
     "output_type": "display_data"
    }
   ],
   "source": [
    "#Scatter plot\n",
    "plt.figure(figsize=(7,5))\n",
    "plt.scatter(df['gdp'], df['house'])\n",
    "\n",
    "#Add axis titles\n",
    "plt.xlabel(\"Gross Domestic Product)\", fontsize = 12)\n",
    "plt.ylabel(\"Housing price\", fontsize = 12)\n",
    "plt.title(\"Relation between GDP and Average housing prices\")\n",
    "\n",
    "plt.show()"
   ]
  },
  {
   "cell_type": "markdown",
   "metadata": {},
   "source": [
    "# II. Parameter Estimate"
   ]
  },
  {
   "cell_type": "code",
   "execution_count": 38,
   "metadata": {
    "ExecuteTime": {
     "end_time": "2019-03-07T08:32:22.018871Z",
     "start_time": "2019-03-07T08:32:22.004633Z"
    }
   },
   "outputs": [
    {
     "name": "stdout",
     "output_type": "stream",
     "text": [
      "Beta_1 coefficient estimate : 0.1012\n"
     ]
    }
   ],
   "source": [
    "# Slope Beta 1 :\n",
    "x = df['gdp']\n",
    "x_bar = np.mean(df['gdp'])\n",
    "y = df['house']\n",
    "y_bar = np.mean(df['house'])\n",
    "\n",
    "beta1 = ((x - x_bar)*(y-y_bar)).sum() / ((x-x_bar)**2).sum()\n",
    "print(\"Beta_1 coefficient estimate : \" + str(round(beta1,4)))"
   ]
  },
  {
   "cell_type": "code",
   "execution_count": 39,
   "metadata": {
    "ExecuteTime": {
     "end_time": "2019-03-07T08:32:22.261815Z",
     "start_time": "2019-03-07T08:32:22.249460Z"
    }
   },
   "outputs": [
    {
     "name": "stdout",
     "output_type": "stream",
     "text": [
      "Beta_0 coefficient estimate : -1794.0861\n"
     ]
    }
   ],
   "source": [
    "beta0 = y_bar - beta1 * x_bar\n",
    "print(\"Beta_0 coefficient estimate : \" + str(round(beta0,4)))"
   ]
  },
  {
   "cell_type": "code",
   "execution_count": 40,
   "metadata": {
    "ExecuteTime": {
     "end_time": "2019-03-07T08:32:22.909344Z",
     "start_time": "2019-03-07T08:32:22.512303Z"
    },
    "scrolled": true
   },
   "outputs": [
    {
     "data": {
      "image/png": "[encoded data removed]",
      "text/plain": [
       "<Figure size 504x360 with 1 Axes>"
      ]
     },
     "metadata": {},
     "output_type": "display_data"
    }
   ],
   "source": [
    "#Visualize the slope\n",
    "\n",
    "plt.figure(figsize=(7,5))\n",
    "plt.scatter(df['gdp'], df['house'])\n",
    "plt.plot(df['gdp'], beta1 * df['gdp'] + beta0, c='r')\n",
    "\n",
    "plt.xlabel(\"Gross Domestic Product)\", fontsize = 12)\n",
    "plt.ylabel(\"Housing price\", fontsize = 12)\n",
    "plt.title(\"Relation between GDP and Average housing prices\")\n",
    "\n",
    "plt.show()"
   ]
  },
  {
   "cell_type": "code",
   "execution_count": 48,
   "metadata": {
    "ExecuteTime": {
     "end_time": "2019-03-07T08:34:05.662336Z",
     "start_time": "2019-03-07T08:34:05.652394Z"
    }
   },
   "outputs": [],
   "source": [
    "#Using sk-learn built-in function\n",
    "x_1 = df[['gdp']]\n",
    "skl_linmod = lm.LinearRegression(fit_intercept = True).fit(x_1,y)\n",
    "\n",
    "beta1_sk = skl_linmod.coef_[0]\n",
    "beta0_sk = skl_linmod.intercept_"
   ]
  },
  {
   "cell_type": "code",
   "execution_count": 49,
   "metadata": {
    "ExecuteTime": {
     "end_time": "2019-03-07T08:34:06.823129Z",
     "start_time": "2019-03-07T08:34:06.816850Z"
    }
   },
   "outputs": [
    {
     "data": {
      "text/plain": [
       "(0.10116776312363895, -1794.086079013971)"
      ]
     },
     "execution_count": 49,
     "metadata": {},
     "output_type": "execute_result"
    }
   ],
   "source": [
    "beta1_sk, beta0_sk"
   ]
  },
  {
   "cell_type": "markdown",
   "metadata": {},
   "source": [
    "# III. Accuracy"
   ]
  },
  {
   "cell_type": "markdown",
   "metadata": {},
   "source": [
    "Estimate of the R2 coefficient :"
   ]
  },
  {
   "cell_type": "code",
   "execution_count": 50,
   "metadata": {
    "ExecuteTime": {
     "end_time": "2019-03-07T08:34:08.658821Z",
     "start_time": "2019-03-07T08:34:08.653778Z"
    }
   },
   "outputs": [],
   "source": [
    "r_2 = 1 - (((y-(beta0 + beta1 * x))**2).sum())/((y-y_bar)**2).sum()"
   ]
  },
  {
   "cell_type": "code",
   "execution_count": 45,
   "metadata": {
    "ExecuteTime": {
     "end_time": "2019-03-07T08:32:25.590983Z",
     "start_time": "2019-03-07T08:32:25.581316Z"
    }
   },
   "outputs": [
    {
     "data": {
      "text/plain": [
       "0.8617757996269022"
      ]
     },
     "execution_count": 45,
     "metadata": {},
     "output_type": "execute_result"
    }
   ],
   "source": [
    "r_2"
   ]
  },
  {
   "cell_type": "markdown",
   "metadata": {},
   "source": [
    "# IV. Significance of the parameters"
   ]
  },
  {
   "cell_type": "markdown",
   "metadata": {},
   "source": [
    "Now, we'll test the significance of the parameters :"
   ]
  },
  {
   "cell_type": "code",
   "execution_count": 61,
   "metadata": {
    "ExecuteTime": {
     "end_time": "2019-03-07T08:37:20.123003Z",
     "start_time": "2019-03-07T08:37:20.112932Z"
    }
   },
   "outputs": [
    {
     "data": {
      "text/plain": [
       "0.0026400884622038"
      ]
     },
     "execution_count": 61,
     "metadata": {},
     "output_type": "execute_result"
    }
   ],
   "source": [
    "sigma2 = math.sqrt(np.var(y))\n",
    "sigma_beta1 = math.sqrt(sigma2 / ((x-x_bar)**2).sum())\n",
    "sigma_beta1"
   ]
  },
  {
   "cell_type": "code",
   "execution_count": 63,
   "metadata": {
    "ExecuteTime": {
     "end_time": "2019-03-07T08:37:42.116603Z",
     "start_time": "2019-03-07T08:37:42.105081Z"
    }
   },
   "outputs": [
    {
     "data": {
      "text/plain": [
       "54.09148485682019"
      ]
     },
     "execution_count": 63,
     "metadata": {},
     "output_type": "execute_result"
    }
   ],
   "source": [
    "sigma_beta0 = math.sqrt(sigma2 * (1/len(y) + (x_bar**2)/((x-x_bar)**2).sum()))\n",
    "sigma_beta0"
   ]
  },
  {
   "cell_type": "code",
   "execution_count": 66,
   "metadata": {
    "ExecuteTime": {
     "end_time": "2019-03-07T08:38:52.138722Z",
     "start_time": "2019-03-07T08:38:52.113391Z"
    }
   },
   "outputs": [
    {
     "name": "stdout",
     "output_type": "stream",
     "text": [
      "The T-Stat is : 38.3198\n",
      "The p-value is : 0.0\n"
     ]
    }
   ],
   "source": [
    "t_test = beta1 / sigma_beta1\n",
    "print(\"The T-Stat is : \" + str(round(t_test,4)))\n",
    "\n",
    "p = (1 - stats.t.cdf(abs(t_test), len(df)-2)) * 2\n",
    "print(\"The p-value is : \" + str(round(p,10)))"
   ]
  },
  {
   "cell_type": "markdown",
   "metadata": {},
   "source": [
    "# V. Confidence interval"
   ]
  },
  {
   "cell_type": "code",
   "execution_count": 69,
   "metadata": {
    "ExecuteTime": {
     "end_time": "2019-03-07T08:40:08.772835Z",
     "start_time": "2019-03-07T08:40:08.764067Z"
    }
   },
   "outputs": [],
   "source": [
    "t_crit = stats.t.ppf(0.975,df=len(y) - 2)\n",
    "\n",
    "c0 = beta1 - t_crit * sigma_beta1\n",
    "c1 = beta1 + t_crit * sigma_beta1"
   ]
  },
  {
   "cell_type": "code",
   "execution_count": 71,
   "metadata": {
    "ExecuteTime": {
     "end_time": "2019-03-07T08:40:33.425006Z",
     "start_time": "2019-03-07T08:40:33.420550Z"
    }
   },
   "outputs": [
    {
     "data": {
      "text/plain": [
       "(0.09546419875960947, 0.10687132748766835)"
      ]
     },
     "execution_count": 71,
     "metadata": {},
     "output_type": "execute_result"
    }
   ],
   "source": [
    "c0, c1"
   ]
  },
  {
   "cell_type": "markdown",
   "metadata": {},
   "source": [
    "# VI. Visualization"
   ]
  },
  {
   "cell_type": "code",
   "execution_count": 73,
   "metadata": {
    "ExecuteTime": {
     "end_time": "2019-03-07T08:41:16.302481Z",
     "start_time": "2019-03-07T08:41:15.772361Z"
    }
   },
   "outputs": [
    {
     "data": {
      "image/png": "[encoded data removed]",
      "text/plain": [
       "<Figure size 864x576 with 1 Axes>"
      ]
     },
     "metadata": {},
     "output_type": "display_data"
    }
   ],
   "source": [
    "plt.figure(figsize=(12,8))\n",
    "y = df['house']\n",
    "plt.scatter(df['gdp'], df['house'], label = \"Data\", color = \"green\")\n",
    "plt.plot(df['gdp'], beta0 + beta1 * x, label = \"Regression\", color = \"black\")\n",
    "\n",
    "plt.fill_between(df['gdp'], beta0 + beta1 * x - t_crit * np.sqrt(sigma2 * (1 + 1/len(y) + (x - x_bar)**2/((x-x_bar)**2).sum())), beta0 + beta1 * x + t_crit * np.sqrt(sigma2 * (1 + 1/len(y) + (x - x_bar)**2/((x-x_bar)**2).sum())), color = 'blue', alpha = 0.1, label = '90% PI')\n",
    "plt.fill_between(df['gdp'], beta0 + beta1 * x - t_crit * np.sqrt(sigma2 * (1/len(y) + (x - x_bar)**2/((x-x_bar)**2).sum())), beta0 + beta1 * x + t_crit * np.sqrt(sigma2 * (1/len(y) + (x - x_bar)**2/((x-x_bar)**2).sum())), color = 'red', alpha = 0.4, label = '90% CI')\n",
    "\n",
    "plt.legend()\n",
    "plt.xlabel(\"GDP\", fontsize = 12)\n",
    "plt.ylabel(\"Housing price\", fontsize = 12)\n",
    "plt.title(\"Relation between GDP and Average housing prices\")\n",
    "plt.xlim(min(x), max(x))\n",
    "plt.show()"
   ]
  }
 ],
 "metadata": {
  "kernelspec": {
   "display_name": "Python 3",
   "language": "python",
   "name": "python3"
  },
  "language_info": {
   "codemirror_mode": {
    "name": "ipython",
    "version": 3
   },
   "file_extension": ".py",
   "mimetype": "text/x-python",
   "name": "python",
   "nbconvert_exporter": "python",
   "pygments_lexer": "ipython3",
   "version": "3.6.5"
  },
  "latex_envs": {
   "LaTeX_envs_menu_present": true,
   "autoclose": false,
   "autocomplete": true,
   "bibliofile": "biblio.bib",
   "cite_by": "apalike",
   "current_citInitial": 1,
   "eqLabelWithNumbers": true,
   "eqNumInitial": 1,
   "hotkeys": {
    "equation": "Ctrl-E",
    "itemize": "Ctrl-I"
   },
   "labels_anchors": false,
   "latex_user_defs": false,
   "report_style_numbering": false,
   "user_envs_cfg": false
  }
 },
 "nbformat": 4,
 "nbformat_minor": 2
}
