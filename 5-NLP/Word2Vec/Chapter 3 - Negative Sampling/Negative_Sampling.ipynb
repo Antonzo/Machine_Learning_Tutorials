{
 "cells": [
  {
   "cell_type": "markdown",
   "metadata": {},
   "source": [
    "# Introduction\n",
    "\n",
    "----------------------\n",
    "\n",
    "With both the \"Negative Sampling\" and the \"Subsampling of Frequent Words\" techniques, the sampling is based on word frequency. That is, words are sampled differently depending on how many times they appear in the training data.\n",
    "In this notebook, we will look at some actual word frequency data and see how the word2vec sampling functions behave on this data."
   ]
  },
  {
   "cell_type": "markdown",
   "metadata": {},
   "source": [
    "# Contents\n",
    "\n",
    "----------------------\n",
    "\n",
    "* [Example Word Count Data](#example_word_counts) \n",
    "    * [Download Word Frequency Data](#download)\n",
    "    * [Inspecting Word Counts](#word_counts)    \n",
    "* [Subsampling Frequent Words](#subsampling)\n",
    "* [Negative Sampling](#negative_sampling)\n",
    "    * [Sampling with Unigram Distribution](#unigram)\n",
    "    * [Sampling with Modified Distribution](#modified)\n",
    "* [Appendix - Google News Vocabulary by Frequency](#appendix)\n"
   ]
  },
  {
   "cell_type": "markdown",
   "metadata": {},
   "source": [
    "# Example Word Count Data<a name=\"example_word_counts\"></a>\n",
    "--------------\n",
    "Let's start by checking out some word frequency data--we'll use word counts which were extracted from a full dump of Wikipedia. "
   ]
  },
  {
   "cell_type": "markdown",
   "metadata": {},
   "source": [
    "## Download Word Frequency Data <a name=\"download\"></a>\n",
    "------------------\n",
    "GitHub user IlyaSemenov was nice enough to calculate the word occurrence counts for every word in Wikipedia and share the results [in this project](https://github.com/IlyaSemenov/wikipedia-word-frequency).\n",
    "\n",
    "Each word is followed by its count, separated by a space, with one word per line.\n",
    "You can download the file directly from [here]('https://raw.githubusercontent.com/IlyaSemenov/wikipedia-word-frequency/master/results/enwiki-20150602-words-frequency.txt'), or use the below code to grab it for you."
   ]
  },
  {
   "cell_type": "code",
   "execution_count": 2,
   "metadata": {},
   "outputs": [
    {
     "name": "stdout",
     "output_type": "stream",
     "text": [
      "Downloading Wikipedia word frequencies...\n",
      "    Done.\n"
     ]
    }
   ],
   "source": [
    "import requests\n",
    "import os\n",
    "\n",
    "# Create the data subdirectory if not there.\n",
    "if not os.path.exists('./data/'):\n",
    "    os.mkdir('./data/')\n",
    "\n",
    "# URL for the text file (~22MB) containing words and \n",
    "# their counts.\n",
    "url = 'https://raw.githubusercontent.com/IlyaSemenov/' \\\n",
    "        'wikipedia-word-frequency/master/results/' \\\n",
    "        'enwiki-20150602-words-frequency.txt'\n",
    "\n",
    "print('Downloading Wikipedia word frequencies...')\n",
    "\n",
    "# Download the file to the `/data/` subdirectory.\n",
    "r = requests.get(url, allow_redirects=True)\n",
    "with open('./data/enwiki-20150602-words-frequency.txt', 'wb') as f:\n",
    "    f.write(r.content)\n",
    "\n",
    "print('    Done.')"
   ]
  },
  {
   "cell_type": "markdown",
   "metadata": {},
   "source": [
    "## Inspecting Word Counts<a name=\"word_counts\"></a>\n",
    "-------------------------\n",
    "Let's start by reading in the words and their counts as two separate lists. Conveniently, they have already been sorted by descending frequency."
   ]
  },
  {
   "cell_type": "code",
   "execution_count": 3,
   "metadata": {},
   "outputs": [
    {
     "name": "stdout",
     "output_type": "stream",
     "text": [
      "Reading in word counts...\n",
      "   Done.\n",
      "Wall time: 1.89 s\n"
     ]
    }
   ],
   "source": [
    "%%time\n",
    "\n",
    "words = []\n",
    "word_counts = []\n",
    "\n",
    "print('Reading in word counts...')\n",
    "\n",
    "# Open the file and read line by line.\n",
    "with open('./data/enwiki-20150602-words-frequency.txt', \n",
    "          'r', encoding='utf-8') as f:\n",
    "    for line in f:\n",
    "        # Remove the newline.\n",
    "        line = line.rstrip('\\n')        \n",
    "        \n",
    "        # The words and counts are separated by a single space.\n",
    "        (word, count) = line.split(' ')\n",
    "        \n",
    "        # Store the word and its count.\n",
    "        words.append(word)\n",
    "        word_counts.append(int(count))\n",
    "\n",
    "print('   Done.')"
   ]
  },
  {
   "cell_type": "markdown",
   "metadata": {},
   "source": [
    "--------\n",
    "Let's look at a few basic properties of the data before applying it to negative sampling.\n",
    "\n",
    "There appears to be 1.9M words in the vocabulary, and 1.5B total word occurrences! "
   ]
  },
  {
   "cell_type": "code",
   "execution_count": 4,
   "metadata": {},
   "outputs": [
    {
     "name": "stdout",
     "output_type": "stream",
     "text": [
      "Number of words in vocabulary: 1,901,124\n",
      "\n",
      "Total word occurrences in Wikipedia: 1,562,759,958\n",
      "\n"
     ]
    }
   ],
   "source": [
    "import numpy as np\n",
    "\n",
    "# Convert the list to a numpy array so we can do math on it easily.\n",
    "word_counts = np.asarray(word_counts)\n",
    "\n",
    "# Total words in the training set.\n",
    "# Make sure to sum with int64, otherwise it will overflow!\n",
    "total_words = np.sum(word_counts, dtype=np.int64)\n",
    "\n",
    "print('Number of words in vocabulary: {:,}\\n'.format(len(words)))\n",
    "print('Total word occurrences in Wikipedia: {:,}\\n'.format(total_words))"
   ]
  },
  {
   "cell_type": "markdown",
   "metadata": {},
   "source": [
    "Just out of curiosity, here are the most frequent and least frequent words."
   ]
  },
  {
   "cell_type": "code",
   "execution_count": 5,
   "metadata": {},
   "outputs": [
    {
     "name": "stdout",
     "output_type": "stream",
     "text": [
      "The 10 most frequest words:\n",
      "\n",
      "  --Count--    --Word--\n",
      " 121,935,704     the\n",
      "  58,025,263     of\n",
      "  49,845,260     and\n",
      "  49,083,414     in\n",
      "  34,840,354     to\n",
      "  20,781,727     was\n",
      "  17,634,866     is\n",
      "  14,371,522     for\n",
      "  13,887,627     as\n",
      "  13,660,464     on\n"
     ]
    }
   ],
   "source": [
    "print('The 10 most frequest words:\\n')\n",
    "print('  --Count--    --Word--')\n",
    "\n",
    "# For the first ten word counts...\n",
    "for i in range(10):\n",
    "    # Print the count with commas, and pad it to 12 characters.\n",
    "    print('{:>12,}     {:}'.format(word_counts[i], words[i]))\n"
   ]
  },
  {
   "cell_type": "code",
   "execution_count": 6,
   "metadata": {},
   "outputs": [
    {
     "name": "stdout",
     "output_type": "stream",
     "text": [
      "The 10 least frequest words:\n",
      "\n",
      "  --Count--    --Word--\n",
      "           3     image-filled\n",
      "           3     фантазия\n",
      "           3     freysgoði\n",
      "           3     hotenow\n",
      "           3     glampers\n",
      "           3     eizin\n",
      "           3     eto-ecologist\n",
      "           3     download-to-rent\n",
      "           3     chasnupp-iii\n"
     ]
    }
   ],
   "source": [
    "print('The 10 least frequest words:\\n')\n",
    "print('  --Count--    --Word--')\n",
    "\n",
    "# Go backwards through the last 10 indeces...\n",
    "for i in range(-1, -10, -1):\n",
    "    # Print the count with commas, and pad it to 12 characters.\n",
    "    print('{:>12,}     {:}'.format(word_counts[i], words[i]))"
   ]
  },
  {
   "cell_type": "markdown",
   "metadata": {},
   "source": [
    "# Subsampling Frequent Words <a name=\"subsampling\"></a>\n",
    "------------------\n",
    "\n",
    "When given a list of words representing a sentence, the word2vec algorithm goes through each word and rolls some dice to decide whether to keep each word or cut it from the sentence. \n",
    "\n",
    "The following equation is used to calculate the probability of **keeping** word $ w_i $, where $ z(w_i) $ is the fraction of the total word occurrences which are word 'i'.\n",
    "\n",
    "$ P(w_i) = (\\sqrt{\\frac{z(w_i)}{0.001}} + 1) \\cdot \\frac{0.001}{z(w_i)} $\n",
    "\n",
    "The value 0.001 is a parameter which can be modified. Smaller values of 'sample' mean words are less likely to be kept / more likely to be tossed.\n",
    "\n",
    "Let's try applying this formula to our Wikipedia word data to see what happens."
   ]
  },
  {
   "cell_type": "code",
   "execution_count": 7,
   "metadata": {},
   "outputs": [],
   "source": [
    "# Divide each word's occurrence count by the total number of words to get that z(w_i) number.\n",
    "word_fractions = word_counts / float(total_words)\n",
    "\n",
    "# Coefficient to control how aggressively we subsample.\n",
    "coeff = 0.001\n",
    "\n",
    "# Let's calculate the probabilities for all words.\n",
    "#\n",
    "# Numpy is handling a lot for us here. It knows that when we divide\n",
    "# an array by a scalar (like word_fractions / coeff) we mean to divide\n",
    "# each element by the scalar. \n",
    "# And when we multiple two arrays together, it knows to multiply each\n",
    "# element of the arrays together. (If we had wanted the dot product\n",
    "# instead, we would use np.dot)\n",
    "word_sample_rates = (np.sqrt(word_fractions / coeff) + 1) * (coeff / word_fractions)"
   ]
  },
  {
   "cell_type": "markdown",
   "metadata": {},
   "source": [
    "---------------\n",
    "Now that we have the sampling probabilities calculated for all words, let's see what the probabilities are for the most common words. "
   ]
  },
  {
   "cell_type": "code",
   "execution_count": 8,
   "metadata": {},
   "outputs": [
    {
     "name": "stdout",
     "output_type": "stream",
     "text": [
      "--Rank--  --Word--  --Probability to keep--\n",
      "   0        the       13%\n",
      "   1         of       19%\n",
      "   2        and       21%\n",
      "   3         in       21%\n",
      "   4         to       26%\n",
      "   5        was       35%\n",
      "   6         is       39%\n",
      "   7        for       44%\n",
      "   8         as       45%\n",
      "   9         on       45%\n",
      "  10       with       49%\n",
      "  11         by       49%\n",
      "  12         he       53%\n",
      "  13       that       56%\n",
      "  14         at       58%\n",
      "  15       from       59%\n",
      "  16        his       61%\n",
      "  17         it       63%\n",
      "  18         an       72%\n",
      "  19       were       80%\n",
      "  20        are       82%\n",
      "  21      which       85%\n",
      "  22       this       92%\n",
      "  23       also       94%\n",
      "  24         be       95%\n",
      "  25         or       97%\n",
      "  26        has       98%\n",
      "  27        had       101%\n"
     ]
    }
   ],
   "source": [
    "print(\"--Rank--  --Word--  --Probability to keep--\")\n",
    "\n",
    "# Go through the words (from most frequent down) until we find\n",
    "# the first word which will always be kept.\n",
    "for i in range(len(words)):\n",
    "    print('%4d %10s       %.0f%%' % (i, words[i], word_sample_rates[i]*100.0))\n",
    "    \n",
    "    # Stop when we go above 100%\n",
    "    if word_sample_rates[i] > 1.0:\n",
    "        break"
   ]
  },
  {
   "cell_type": "markdown",
   "metadata": {},
   "source": [
    "These results surprised me. For this dataset, the subsampling equation (with coefficient 0.001) only removes the top 27 stop words. Perhaps this is the intended behavior, or perhaps the Google News dataset had a different word frequency distribution. \n",
    "\n",
    "As we'll see in the next section, though, this subsampling does have a significant impact on the size of the training set.\n",
    "\n",
    "-----------\n",
    "\n",
    "With the sampling rates calculated, we can now calculate the expected reduction in size of the training set. \n",
    "Note that this sampling is not a pre-processing step, but rather a decision that's made on each word as we go through the training data. The training dataset is not modified, either--each training pass will remove different words, and the actual number of words removed will vary. The calculation below is just an average."
   ]
  },
  {
   "cell_type": "code",
   "execution_count": 9,
   "metadata": {},
   "outputs": [
    {
     "name": "stdout",
     "output_type": "stream",
     "text": [
      "\n",
      "Of 1,562,759,958 words in the training set, on average 1,216,199,161 will be sampled.\n",
      "\n",
      "This is a 22.18% reduction in size.\n"
     ]
    }
   ],
   "source": [
    "# Limit the sample rates to a max value of 1.0.\n",
    "wsr = np.clip(word_sample_rates, 0.0, 1.0)\n",
    "\n",
    "# Multiply each word's count by its sample rate, and sum the result\n",
    "# to get the expected number of sampled words.\n",
    "sampled_words = np.dot(word_counts, wsr)\n",
    "\n",
    "# Report the result.\n",
    "print(\"\\nOf {:,} words in the training set, on average {:,} will be sampled.\".format(total_words, int(sampled_words)))\n",
    "\n",
    "# By what percent did we reduce the training set?\n",
    "percent_sampled = (total_words - sampled_words) / total_words * 100.0\n",
    "\n",
    "print(\"\\nThis is a %.2f%% reduction in size.\" % (percent_sampled))"
   ]
  },
  {
   "cell_type": "markdown",
   "metadata": {},
   "source": [
    "--------\n",
    "Below is some code for taking an example sentence and displaying the sampling probabilities for each word."
   ]
  },
  {
   "cell_type": "code",
   "execution_count": 10,
   "metadata": {},
   "outputs": [
    {
     "name": "stdout",
     "output_type": "stream",
     "text": [
      "\n",
      "--Rank--         --Word--    --Probability to keep--\n",
      "       0             the       13%\n",
      "    4435           quick       100%\n",
      "     846           brown       100%\n",
      "    1895             fox       100%\n",
      "    9290          jumped       100%\n",
      "      54            over       100%\n",
      "       0             the       13%\n",
      "   16176            lazy       100%\n",
      "    2406             dog       100%\n",
      "\n",
      "--Rank--         --Word--    --Probability to keep--\n",
      "     708           below       100%\n",
      "       6              is       39%\n",
      "      58            some       100%\n",
      "    1198            code       100%\n",
      "       7             for       44%\n",
      "     752          taking       100%\n",
      "      18              an       72%\n",
      "     411         example       100%\n",
      "    3579        sentence       100%\n",
      "       2             and       21%\n",
      "   10077      displaying       100%\n",
      "       0             the       13%\n",
      "   10173        sampling       100%\n",
      "   20724   probabilities       100%\n",
      "       7             for       44%\n",
      "     134            each       100%\n",
      "     868            word       100%\n"
     ]
    }
   ],
   "source": [
    "# Let's define this as a function so we can re-use it on other sentences.\n",
    "def subsample_sentence(sentence, word_sample_rates):\n",
    "\n",
    "    print(\"\\n%8s  %15s    %s\" % ('--Rank--', '--Word--', '--Probability to keep--'))\n",
    "\n",
    "    # For each word in the sentence\n",
    "    for word in sentence:\n",
    "        # Find the word's index.\n",
    "        i = words.index(word)\n",
    "        \n",
    "        #print(word_fractions[i])\n",
    "        \n",
    "        word_prob = word_sample_rates[i]\n",
    "        \n",
    "        if word_prob > 1.0:\n",
    "            word_prob = 1.0\n",
    "        \n",
    "        print('%8d %15s       %.0f%%' % (i, word, word_prob*100.0))\n",
    "        \n",
    "        \n",
    "# Let's try a classic example.\n",
    "sentence = ['the', 'quick', 'brown', 'fox', 'jumped', 'over', 'the', 'lazy', 'dog']\n",
    "subsample_sentence(sentence, word_sample_rates)    \n",
    "\n",
    "# And now something arbitrary.\n",
    "sentence = ['below', 'is', 'some', 'code', 'for', 'taking', 'an', 'example', 'sentence', 'and', 'displaying', 'the', 'sampling', 'probabilities', 'for', 'each', 'word']\n",
    "subsample_sentence(sentence, word_sample_rates) "
   ]
  },
  {
   "cell_type": "markdown",
   "metadata": {},
   "source": [
    "# Negative Sampling<a name=\"negative_sampling\"></a>\n",
    "----------------\n",
    "Recall that when training the word2vec neural network, we only update the weights for a small number of \"negative\" words (that is, words which *are not* in the input word's context). This is referred to as negative sampling. \n",
    "\n",
    "The negative samples are selected at random, but with a probability tied to the word's frequency in the training data. That is, more common words are selected more often as negative samples."
   ]
  },
  {
   "cell_type": "markdown",
   "metadata": {},
   "source": [
    "## Sampling with Unigram Distribution<a name=\"unigram\"></a>\n",
    "----------------\n",
    "The most straightforward sampling for negative words would be to select them with the same probability as their occurrence in the training data: \n",
    "\n",
    "$ P(w_i) = \\frac{  f(w_i)  }{\\sum_{j=0}^{n}\\left(  f(w_j) \\right) } $\n",
    "\n",
    "That is, the probability of selecting word 'i' is just the number of occurrences of word i over the total number of word occurrences in the corpus.\n",
    "\n",
    "Let's plot the word counts to see what this distribution would look like."
   ]
  },
  {
   "cell_type": "code",
   "execution_count": 11,
   "metadata": {},
   "outputs": [
    {
     "data": {
      "image/png": "[encoded data removed]",
      "text/plain": [
       "<Figure size 432x288 with 1 Axes>"
      ]
     },
     "metadata": {},
     "output_type": "display_data"
    }
   ],
   "source": [
    "%matplotlib inline\n",
    "\n",
    "import seaborn as sns\n",
    "import matplotlib.pyplot as plt\n",
    "\n",
    "# For each word, calculate the probability that you would choose it\n",
    "# at random from the training set.\n",
    "word_probs = word_counts / float(total_words)\n",
    "\n",
    "# The x-axis will just be the word \"ranking\". \n",
    "# Because the words are all sorted by frequency, a\n",
    "# word's index in the list is also its rank.\n",
    "word_ranks = range(0, len(words))\n",
    "\n",
    "sns.set(style='darkgrid')\n",
    "\n",
    "# Plot the word counts on a logarithmic scale.\n",
    "plt.yscale('log')\n",
    "plt.plot(word_ranks, word_probs)\n",
    "\n",
    "plt.xlabel('Word Rank')\n",
    "plt.ylabel('Word Probability')\n",
    "plt.title('Probability of selecting each word')\n",
    "\n",
    "plt.show()"
   ]
  },
  {
   "cell_type": "markdown",
   "metadata": {},
   "source": [
    "----------------\n",
    "It looks like the elbow of the plot is somewhere around word 125k, so let's check out that region.\n",
    "\n",
    "It's interesting to see that these are still (mostly) reasonable words."
   ]
  },
  {
   "cell_type": "code",
   "execution_count": 12,
   "metadata": {},
   "outputs": [
    {
     "name": "stdout",
     "output_type": "stream",
     "text": [
      "Words near elbow at 125,000:\n",
      "\n",
      "                      --Word--    --Count--\n",
      "               petroleum-based    222\n",
      "                        jepara    222\n",
      "                   reperfusion    222\n",
      "                    inscribing    222\n",
      "                     entreated    222\n",
      "                        markaz    222\n",
      "                           bng    222\n",
      "                           lut    222\n",
      "                      tibialis    222\n",
      "                   hairstyling    222\n"
     ]
    }
   ],
   "source": [
    "print('Words near elbow at 125,000:\\n')\n",
    "print('%30s    --Count--' % '--Word--')\n",
    "\n",
    "# For the first ten word counts...\n",
    "for i in range(125000, 125010):    \n",
    "    print('%30s    %d' % (words[i], word_counts[i]))"
   ]
  },
  {
   "cell_type": "markdown",
   "metadata": {},
   "source": [
    "## Sampling with Modified Distribution<a name=\"modified\"></a>\n",
    "---------\n",
    "The word2vec authors found that a slight modification to this function produced the best results. They raised each word count to the 3/4 power:\n",
    "\n",
    "$ P(w_i) = \\frac{  {f(w_i)}^{3/4}  }{\\sum_{j=0}^{n}\\left(  {f(w_j)}^{3/4} \\right) } $\n",
    "\n",
    "Let's calculate these modified probabilities, and plot them together with the unigram distribution to see the difference."
   ]
  },
  {
   "cell_type": "code",
   "execution_count": 13,
   "metadata": {},
   "outputs": [
    {
     "data": {
      "image/png": "[encoded data removed]",
      "text/plain": [
       "<Figure size 432x288 with 1 Axes>"
      ]
     },
     "metadata": {
      "needs_background": "light"
     },
     "output_type": "display_data"
    }
   ],
   "source": [
    "# Raise all word counts to the 3/4 power.\n",
    "word_counts_34 = word_counts**0.75\n",
    "\n",
    "# Sum these to get the denominator.\n",
    "total_words_34 = np.sum(word_counts_34)\n",
    "\n",
    "# Calculate the word probabilities\n",
    "word_probs_34 = word_counts_34 / total_words_34\n",
    "\n",
    "# Create a new figure and retrieve the axis object so we can\n",
    "# plot both distrubtions together.\n",
    "fig = plt.figure()\n",
    "ax1 = fig.add_subplot(111)\n",
    "\n",
    "# Plot both distributions.\n",
    "ax1.plot(word_ranks, word_probs,    c='b', label='Unigram')\n",
    "ax1.plot(word_ranks, word_probs_34, c='r', label='Unigram^3/4')\n",
    "\n",
    "# Show the probabilities in log scale.\n",
    "plt.yscale('log')\n",
    "\n",
    "# Add the legend and label the plot.\n",
    "plt.legend()\n",
    "plt.xlabel('Word Rank')\n",
    "plt.ylabel('Word Probability')\n",
    "plt.title('Comparison of distributions')\n",
    "\n",
    "plt.show()"
   ]
  },
  {
   "cell_type": "markdown",
   "metadata": {},
   "source": [
    "We can see that, on the very far left, the modified distribution **decreases** probability for the most frequent words. But for the majority of the words, the modified distribution **increases** their probability. \n",
    "\n",
    "Out of curiosity, where does it flip?"
   ]
  },
  {
   "cell_type": "code",
   "execution_count": 14,
   "metadata": {},
   "outputs": [
    {
     "name": "stdout",
     "output_type": "stream",
     "text": [
      "'crown', ranked 1798, is the first word which has a higher probability with the modified distribution.\n",
      "This means probability is decreased for only the top 0.09% of the vocabulary.\n",
      "The word has unigram probability 6.37987E-05, and probability 6.38053E-05 with the modified distribution.\n",
      "The word occurs 99,702 times in the corpus\n",
      "\n"
     ]
    }
   ],
   "source": [
    "for i in range(len(word_probs)):\n",
    "    if word_probs[i] < word_probs_34[i]:\n",
    "        print(\"'%s', ranked %d, is the first word which has a \" \\\n",
    "              \"higher probability with the modified distribution.\" % (words[i], i))\n",
    "        print(\"This means probability is decreased for only \" \\\n",
    "              \"the top %.2f%% of the vocabulary.\" % (float(i) / float(len(word_probs)) * 100.0))\n",
    "        print(\"The word has unigram probability %G, \" \\\n",
    "              \"and probability %G with the modified distribution.\" % (word_probs[i], word_probs_34[i]))\n",
    "        print(\"The word occurs {:,} times in the corpus\\n\".format(word_counts[i]))\n",
    "        break\n",
    "    "
   ]
  },
  {
   "cell_type": "markdown",
   "metadata": {},
   "source": [
    "# Appendix - Google News Vocabulary by Frequency <a name=\"appendix\"></a>\n",
    "--------------------------\n",
    "\n",
    "If you load the Google News model in gensim (as we did in Chapter 1), you can look at, for example, `model.vocab[\"hello\"].count`. I assumed this was the word occurrence count that we want, but it's actually just the word's _ranking_. So if you sort the 3M words in the Google News vocabulary by this \"count\" property, you'll just get the correct ranking of the words, but not the actual number of occurrences.\n",
    "\n",
    "The below code demonstrates this. "
   ]
  },
  {
   "cell_type": "code",
   "execution_count": 15,
   "metadata": {},
   "outputs": [
    {
     "name": "stdout",
     "output_type": "stream",
     "text": [
      "\n",
      "The 10 most frequest words:\n",
      "\n",
      "  --Rank--    --Word--\n",
      "   3,000,000     </s>\n",
      "   2,999,999     in\n",
      "   2,999,998     for\n",
      "   2,999,997     that\n",
      "   2,999,996     is\n",
      "   2,999,995     on\n",
      "   2,999,994     ##\n",
      "   2,999,993     The\n",
      "   2,999,992     with\n",
      "   2,999,991     said\n",
      "\n",
      "The 10 least frequest words:\n",
      "\n",
      "  --Rank--    --Word--\n",
      "           1     snowcapped_Caucasus\n",
      "           2     pulverizes_boulders\n",
      "           3     Mezze_Cafe\n",
      "           4     Bim_Skala_Bim\n",
      "           5     RAFFAELE\n",
      "           6     righthander_Kyle_Drabek\n",
      "           7     Thirsty_Owl\n",
      "           8     divider_pistons\n",
      "           9     Shilpa_Goenka\n",
      "Wall time: 46.4 s\n"
     ]
    }
   ],
   "source": [
    "%%time\n",
    "\n",
    "from gensim.corpora import Dictionary\n",
    "\n",
    "import gensim\n",
    "\n",
    "filepath = './data/GoogleNews-vectors-negative300.bin'\n",
    "\n",
    "# Load Google's pre-trained Word2Vec model.\n",
    "model = gensim.models.KeyedVectors.load_word2vec_format(filepath, binary=True)\n",
    "\n",
    "# Get the list of words in the vocabulary.\n",
    "words = model.vocab.keys()\n",
    "\n",
    "# Create a corresponding list of the count for each word.\n",
    "word_ranks = []\n",
    "for word in words:\n",
    "    word_ranks.append(model.vocab[word].count)\n",
    "    \n",
    "# Sort both lists by the word counts, descending (most frequent first).\n",
    "# Please forgive the python nastiness! We're combining the lists,\n",
    "# sorting by the counts, then splitting them back into two separate\n",
    "# lists.\n",
    "word_ranks, words = map(list, zip(*sorted(zip(word_ranks, words), reverse=True)))\n",
    "\n",
    "print('\\nThe 10 most frequest words:\\n')\n",
    "print('  --Rank--    --Word--')\n",
    "\n",
    "# For the 10 most frequent words...\n",
    "for i in range(10):\n",
    "    # Print the rank with commas, and pad it to 12 characters.\n",
    "    print('{:>12,}     {:}'.format(word_ranks[i], words[i]))\n",
    "\n",
    "print('\\nThe 10 least frequest words:\\n')\n",
    "print('  --Rank--    --Word--')\n",
    "\n",
    "# Go backwards through the last 10 indeces...\n",
    "for i in range(-1, -10, -1):\n",
    "    # Print the count with commas, and pad it to 12 characters.\n",
    "    print('{:>12,}     {:}'.format(word_ranks[i], words[i]))"
   ]
  }
 ],
 "metadata": {
  "kernelspec": {
   "display_name": "Python 3",
   "language": "python",
   "name": "python3"
  },
  "language_info": {
   "codemirror_mode": {
    "name": "ipython",
    "version": 3
   },
   "file_extension": ".py",
   "mimetype": "text/x-python",
   "name": "python",
   "nbconvert_exporter": "python",
   "pygments_lexer": "ipython3",
   "version": "3.7.2"
  }
 },
 "nbformat": 4,
 "nbformat_minor": 2
}
