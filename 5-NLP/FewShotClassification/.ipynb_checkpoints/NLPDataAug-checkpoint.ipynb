{
 "cells": [
  {
   "cell_type": "markdown",
   "metadata": {},
   "source": [
    "<center><h1 style=\"font-size:3em\"> Few-shot text classification </h1></center>\n",
    "<br>\n",
    "<center><i style=\"font-size:1.3em\">With pre-trained word embeddings and a human in the loop</i></center>"
   ]
  },
  {
   "cell_type": "markdown",
   "metadata": {},
   "source": [
    "- Implementation of Few-Shot Text Classification with Pre-Trained Word Embeddings and a Human in the Loop by Katherine Bailey and Sunny Chopra Acquia: https://arxiv.org/pdf/1804.02063.pdf\n",
    "- A comprehensive guide to the paper can be found here : https://katbailey.github.io/talks/Few-shot%20text%20classification.pdf\n",
    "- Includes Easy Data Augmentation (EDA) package : https://github.com/jasonwei20/eda_nlp/blob/master/code/eda.py introduced after this paper : https://arxiv.org/pdf/1901.11196.pdf"
   ]
  },
  {
   "cell_type": "code",
   "execution_count": 183,
   "metadata": {
    "ExecuteTime": {
     "end_time": "2019-09-09T08:06:48.089006Z",
     "start_time": "2019-09-09T08:06:48.075029Z"
    }
   },
   "outputs": [],
   "source": [
    "import pandas as pd\n",
    "import numpy as np\n",
    "from random import seed\n",
    "from random import sample\n",
    "import random\n",
    "from random import shuffle\n",
    "import re\n",
    "\n",
    "seed(42)\n",
    "np.random.seed(42)\n",
    "\n",
    "from sklearn.model_selection import train_test_split\n",
    "import matplotlib.pyplot as plt\n",
    "\n",
    "import gensim.downloader as api\n",
    "from gensim.models.keyedvectors import Word2VecKeyedVectors\n",
    "\n",
    "from sklearn.decomposition import PCA\n",
    "from sklearn.neighbors import KNeighborsClassifier\n",
    "from sklearn.metrics import accuracy_score\n",
    "from scipy import spatial\n",
    "\n",
    "import nltk\n",
    "from nltk.corpus import stopwords\n",
    "from nltk.corpus import wordnet "
   ]
  },
  {
   "cell_type": "code",
   "execution_count": 184,
   "metadata": {
    "ExecuteTime": {
     "end_time": "2019-09-09T08:06:48.496654Z",
     "start_time": "2019-09-09T08:06:48.477765Z"
    }
   },
   "outputs": [],
   "source": [
    "stop_words = ['i', 'me', 'my', 'myself', 'we', 'our', \n",
    "'ours', 'ourselves', 'you', 'your', 'yours', \n",
    "'yourself', 'yourselves', 'he', 'him', 'his', \n",
    "'himself', 'she', 'her', 'hers', 'herself', \n",
    "'it', 'its', 'itself', 'they', 'them', 'their', \n",
    "'theirs', 'themselves', 'what', 'which', 'who', \n",
    "'whom', 'this', 'that', 'these', 'those', 'am', \n",
    "'is', 'are', 'was', 'were', 'be', 'been', 'being', \n",
    "'have', 'has', 'had', 'having', 'do', 'does', 'did',\n",
    "'doing', 'a', 'an', 'the', 'and', 'but', 'if', 'or',\n",
    "'because', 'as', 'until', 'while', 'of', 'at', \n",
    "'by', 'for', 'with', 'about', 'against', 'between',\n",
    "'into', 'through', 'during', 'before', 'after', \n",
    "'above', 'below', 'to', 'from', 'up', 'down', 'in',\n",
    "'out', 'on', 'off', 'over', 'under', 'again', \n",
    "'further', 'then', 'once', 'here', 'there', 'when', \n",
    "'where', 'why', 'how', 'all', 'any', 'both', 'each', \n",
    "'few', 'more', 'most', 'other', 'some', 'such', 'no', \n",
    "'nor', 'not', 'only', 'own', 'same', 'so', 'than', 'too', \n",
    "'very', 's', 't', 'can', 'will', 'just', 'don', \n",
    "'should', 'now', '']"
   ]
  },
  {
   "cell_type": "code",
   "execution_count": 354,
   "metadata": {
    "ExecuteTime": {
     "end_time": "2019-09-09T08:55:23.300002Z",
     "start_time": "2019-09-09T08:53:23.490093Z"
    }
   },
   "outputs": [],
   "source": [
    "#model2 = api.load('glove-twitter-25')\n",
    "model2 = api.load('word2vec-google-news-300')"
   ]
  },
  {
   "cell_type": "markdown",
   "metadata": {},
   "source": [
    "# Load the data"
   ]
  },
  {
   "cell_type": "markdown",
   "metadata": {},
   "source": [
    "The dataset comes from Stackoverflow Short Text Classification : https://github.com/jacoxu/StackOverflow"
   ]
  },
  {
   "cell_type": "code",
   "execution_count": 355,
   "metadata": {
    "ExecuteTime": {
     "end_time": "2019-09-09T08:55:55.666929Z",
     "start_time": "2019-09-09T08:55:55.634679Z"
    },
    "scrolled": true
   },
   "outputs": [],
   "source": [
    "df = pd.read_csv(\"stack.csv\")"
   ]
  },
  {
   "cell_type": "code",
   "execution_count": 356,
   "metadata": {
    "ExecuteTime": {
     "end_time": "2019-09-09T08:55:55.836748Z",
     "start_time": "2019-09-09T08:55:55.827184Z"
    }
   },
   "outputs": [],
   "source": [
    "def get_only_chars(line):\n",
    "\n",
    "    clean_line = \"\"\n",
    "\n",
    "    line = line.replace(\"’\", \"\")\n",
    "    line = line.replace(\"'\", \"\")\n",
    "    line = line.replace(\"-\", \" \") #replace hyphens with spaces\n",
    "    line = line.replace(\"\\t\", \" \")\n",
    "    line = line.replace(\"\\n\", \" \")\n",
    "    line = line.lower()\n",
    "\n",
    "    for char in line:\n",
    "        if char in 'qwertyuiopasdfghjklzxcvbnm ':\n",
    "            clean_line += char\n",
    "        else:\n",
    "            clean_line += ' '\n",
    "\n",
    "    clean_line = re.sub(' +',' ',clean_line) #delete extra spaces\n",
    "    if clean_line[0] == ' ':\n",
    "        clean_line = clean_line[1:]\n",
    "    return clean_line"
   ]
  },
  {
   "cell_type": "code",
   "execution_count": 357,
   "metadata": {
    "ExecuteTime": {
     "end_time": "2019-09-09T08:55:56.414618Z",
     "start_time": "2019-09-09T08:55:56.172125Z"
    }
   },
   "outputs": [],
   "source": [
    "df['Text'] = df['Text'].apply(lambda x: get_only_chars(x))"
   ]
  },
  {
   "cell_type": "code",
   "execution_count": 358,
   "metadata": {
    "ExecuteTime": {
     "end_time": "2019-09-09T08:55:56.603316Z",
     "start_time": "2019-09-09T08:55:56.591548Z"
    }
   },
   "outputs": [
    {
     "data": {
      "text/html": [
       "<div>\n",
       "<style scoped>\n",
       "    .dataframe tbody tr th:only-of-type {\n",
       "        vertical-align: middle;\n",
       "    }\n",
       "\n",
       "    .dataframe tbody tr th {\n",
       "        vertical-align: top;\n",
       "    }\n",
       "\n",
       "    .dataframe thead th {\n",
       "        text-align: right;\n",
       "    }\n",
       "</style>\n",
       "<table border=\"1\" class=\"dataframe\">\n",
       "  <thead>\n",
       "    <tr style=\"text-align: right;\">\n",
       "      <th></th>\n",
       "      <th>Text</th>\n",
       "      <th>Label</th>\n",
       "    </tr>\n",
       "  </thead>\n",
       "  <tbody>\n",
       "    <tr>\n",
       "      <th>0</th>\n",
       "      <td>how do i fill a dataset or a datatable from a ...</td>\n",
       "      <td>18</td>\n",
       "    </tr>\n",
       "    <tr>\n",
       "      <th>1</th>\n",
       "      <td>how do you page a collection with linq</td>\n",
       "      <td>18</td>\n",
       "    </tr>\n",
       "    <tr>\n",
       "      <th>2</th>\n",
       "      <td>best subversion clients for windows vista bit</td>\n",
       "      <td>3</td>\n",
       "    </tr>\n",
       "    <tr>\n",
       "      <th>3</th>\n",
       "      <td>best practice collaborative environment bin di...</td>\n",
       "      <td>3</td>\n",
       "    </tr>\n",
       "    <tr>\n",
       "      <th>4</th>\n",
       "      <td>visual studio setup project per user registry ...</td>\n",
       "      <td>7</td>\n",
       "    </tr>\n",
       "  </tbody>\n",
       "</table>\n",
       "</div>"
      ],
      "text/plain": [
       "                                                Text  Label\n",
       "0  how do i fill a dataset or a datatable from a ...     18\n",
       "1            how do you page a collection with linq      18\n",
       "2     best subversion clients for windows vista bit       3\n",
       "3  best practice collaborative environment bin di...      3\n",
       "4  visual studio setup project per user registry ...      7"
      ]
     },
     "execution_count": 358,
     "metadata": {},
     "output_type": "execute_result"
    }
   ],
   "source": [
    "df.head()"
   ]
  },
  {
   "cell_type": "markdown",
   "metadata": {},
   "source": [
    "# Prepare the data"
   ]
  },
  {
   "cell_type": "code",
   "execution_count": 359,
   "metadata": {
    "ExecuteTime": {
     "end_time": "2019-09-09T08:55:57.233455Z",
     "start_time": "2019-09-09T08:55:57.229854Z"
    }
   },
   "outputs": [],
   "source": [
    "num_classes = 2\n",
    "sample_size = 3"
   ]
  },
  {
   "cell_type": "code",
   "execution_count": 360,
   "metadata": {
    "ExecuteTime": {
     "end_time": "2019-09-09T08:55:57.544090Z",
     "start_time": "2019-09-09T08:55:57.532420Z"
    }
   },
   "outputs": [],
   "source": [
    "# Generate samples that contains K samples of each class\n",
    "\n",
    "def gen_sample(sample_size, num_classes):\n",
    "    \n",
    "    df_1 = df[(df[\"Label\"]<num_classes + 1)].reset_index().drop([\"index\"], axis=1).reset_index().drop([\"index\"], axis=1)\n",
    "    train = df_1[df_1[\"Label\"] == np.unique(df_1['Label'])[0]].sample(sample_size)\n",
    "    \n",
    "    train_index = train.index.tolist()\n",
    "    \n",
    "    for i in range(1,num_classes):\n",
    "        train_2 = df_1[df_1[\"Label\"] == np.unique(df_1['Label'])[i]].sample(sample_size)\n",
    "        train = pd.concat([train, train_2], axis=0)\n",
    "        train_index.extend(train_2.index.tolist())\n",
    "        \n",
    "    test = df_1[~df_1.index.isin(train_index)]\n",
    "\n",
    "    return train, test"
   ]
  },
  {
   "cell_type": "code",
   "execution_count": 361,
   "metadata": {
    "ExecuteTime": {
     "end_time": "2019-09-09T08:55:57.910352Z",
     "start_time": "2019-09-09T08:55:57.896388Z"
    }
   },
   "outputs": [],
   "source": [
    "# Text processing (split, find token id, get embedidng)\n",
    "\n",
    "def transform_sentence(text, model):\n",
    "    \n",
    "    \"\"\"\n",
    "    Mean embedding vector\n",
    "    \"\"\"\n",
    "    \n",
    "    def preprocess_text(raw_text, model=model):\n",
    "        \n",
    "        \"\"\" \n",
    "        Eexcluding unknown words and get corresponding token\n",
    "        \"\"\"\n",
    "        \n",
    "        raw_text = raw_text.split()\n",
    "        \n",
    "        return list(filter(lambda x: x in model.vocab, raw_text))\n",
    "    \n",
    "    tokens = preprocess_text(text)\n",
    "    \n",
    "    if not tokens:\n",
    "        return np.zeros(model.vector_size)\n",
    "\n",
    "    text_vector = np.mean(model[tokens], axis=0)\n",
    "    \n",
    "    return np.array(text_vector)"
   ]
  },
  {
   "cell_type": "code",
   "execution_count": 362,
   "metadata": {
    "ExecuteTime": {
     "end_time": "2019-09-09T08:55:58.200865Z",
     "start_time": "2019-09-09T08:55:58.182377Z"
    }
   },
   "outputs": [],
   "source": [
    "train, test = gen_sample(sample_size, num_classes)"
   ]
  },
  {
   "cell_type": "code",
   "execution_count": 363,
   "metadata": {
    "ExecuteTime": {
     "end_time": "2019-09-09T08:55:58.479900Z",
     "start_time": "2019-09-09T08:55:58.471159Z"
    },
    "scrolled": true
   },
   "outputs": [
    {
     "data": {
      "text/html": [
       "<div>\n",
       "<style scoped>\n",
       "    .dataframe tbody tr th:only-of-type {\n",
       "        vertical-align: middle;\n",
       "    }\n",
       "\n",
       "    .dataframe tbody tr th {\n",
       "        vertical-align: top;\n",
       "    }\n",
       "\n",
       "    .dataframe thead th {\n",
       "        text-align: right;\n",
       "    }\n",
       "</style>\n",
       "<table border=\"1\" class=\"dataframe\">\n",
       "  <thead>\n",
       "    <tr style=\"text-align: right;\">\n",
       "      <th></th>\n",
       "      <th>Text</th>\n",
       "      <th>Label</th>\n",
       "    </tr>\n",
       "  </thead>\n",
       "  <tbody>\n",
       "    <tr>\n",
       "      <th>1491</th>\n",
       "      <td>ajax wordpress posts</td>\n",
       "      <td>1</td>\n",
       "    </tr>\n",
       "    <tr>\n",
       "      <th>1557</th>\n",
       "      <td>wordpress two urls for the same post</td>\n",
       "      <td>1</td>\n",
       "    </tr>\n",
       "    <tr>\n",
       "      <th>1349</th>\n",
       "      <td>creating rss xml file for wordpress posts</td>\n",
       "      <td>1</td>\n",
       "    </tr>\n",
       "    <tr>\n",
       "      <th>606</th>\n",
       "      <td>oracle documentation generation tool</td>\n",
       "      <td>2</td>\n",
       "    </tr>\n",
       "    <tr>\n",
       "      <th>925</th>\n",
       "      <td>oracle sql query to summarize statistics using...</td>\n",
       "      <td>2</td>\n",
       "    </tr>\n",
       "    <tr>\n",
       "      <th>234</th>\n",
       "      <td>notification when alter occurs on oracle database</td>\n",
       "      <td>2</td>\n",
       "    </tr>\n",
       "  </tbody>\n",
       "</table>\n",
       "</div>"
      ],
      "text/plain": [
       "                                                   Text  Label\n",
       "1491                               ajax wordpress posts      1\n",
       "1557               wordpress two urls for the same post      1\n",
       "1349         creating rss xml file for wordpress posts       1\n",
       "606               oracle documentation generation tool       2\n",
       "925   oracle sql query to summarize statistics using...      2\n",
       "234   notification when alter occurs on oracle database      2"
      ]
     },
     "execution_count": 363,
     "metadata": {},
     "output_type": "execute_result"
    }
   ],
   "source": [
    "train"
   ]
  },
  {
   "cell_type": "code",
   "execution_count": 382,
   "metadata": {
    "ExecuteTime": {
     "end_time": "2019-09-09T08:56:09.329272Z",
     "start_time": "2019-09-09T08:56:09.321020Z"
    }
   },
   "outputs": [
    {
     "data": {
      "text/plain": [
       "(54, 2)"
      ]
     },
     "execution_count": 382,
     "metadata": {},
     "output_type": "execute_result"
    }
   ],
   "source": [
    "train.shape"
   ]
  },
  {
   "cell_type": "code",
   "execution_count": 383,
   "metadata": {
    "ExecuteTime": {
     "end_time": "2019-09-09T08:56:10.561969Z",
     "start_time": "2019-09-09T08:56:10.165949Z"
    }
   },
   "outputs": [],
   "source": [
    "X_train = train['Text']\n",
    "y_train = train['Label'].values\n",
    "X_test = test['Text']\n",
    "y_test = test['Label'].values\n",
    "\n",
    "X_train_mean = X_train.apply(lambda x : transform_sentence(x, model2))\n",
    "X_test_mean = X_test.apply(lambda x : transform_sentence(x, model2))\n",
    "\n",
    "X_train_mean = pd.DataFrame(X_train_mean)['Text'].apply(pd.Series)\n",
    "X_test_mean = pd.DataFrame(X_test_mean)['Text'].apply(pd.Series)"
   ]
  },
  {
   "cell_type": "markdown",
   "metadata": {},
   "source": [
    "# Classify Text with Cosine Similarity"
   ]
  },
  {
   "cell_type": "markdown",
   "metadata": {},
   "source": [
    "We will now use cosine similarity between the embeddings of the text to classify and the average embeddings of all classes. A new example therefore belongs to the class it is the closest to."
   ]
  },
  {
   "cell_type": "code",
   "execution_count": 384,
   "metadata": {
    "ExecuteTime": {
     "end_time": "2019-09-09T08:56:12.209088Z",
     "start_time": "2019-09-09T08:56:12.201738Z"
    }
   },
   "outputs": [],
   "source": [
    "# Use cosine similarity to find closest class\n",
    "\n",
    "def classify_txt(txt, mean_embedding):\n",
    "    \n",
    "    best_dist = 1\n",
    "    best_label = -1\n",
    "    \n",
    "    for cl in range(num_classes):\n",
    "        \n",
    "        dist = spatial.distance.cosine(transform_sentence(txt, model2), mean_embedding[cl])\n",
    "        \n",
    "        if dist < best_dist :\n",
    "            best_dist = dist\n",
    "            best_label = cl+1\n",
    "        \n",
    "    return best_label"
   ]
  },
  {
   "cell_type": "code",
   "execution_count": 385,
   "metadata": {
    "ExecuteTime": {
     "end_time": "2019-09-09T08:56:12.820795Z",
     "start_time": "2019-09-09T08:56:12.802977Z"
    }
   },
   "outputs": [],
   "source": [
    "# Process text and predict on the test set\n",
    "\n",
    "def return_score(sample_size, num_classes):\n",
    "    \n",
    "    train, test = gen_sample(sample_size, num_classes)\n",
    "    \n",
    "    X_train = train['Text']\n",
    "    y_train = train['Label'].values\n",
    "    X_test = test['Text']\n",
    "    y_test = test['Label'].values\n",
    "\n",
    "    X_train_mean = X_train.apply(lambda x : transform_sentence(x, model2))\n",
    "    X_test_mean = X_test.apply(lambda x : transform_sentence(x, model2))\n",
    "\n",
    "    X_train_mean = pd.DataFrame(X_train_mean)['Text'].apply(pd.Series)\n",
    "    X_test_mean = pd.DataFrame(X_test_mean)['Text'].apply(pd.Series)\n",
    "\n",
    "    mean_embedding = {}\n",
    "    for cl in range(num_classes):\n",
    "        mean_embedding[cl] = np.mean((X_train_mean[y_train == cl + 1]), axis=0)\n",
    "        \n",
    "    y_pred = [classify_txt(t, mean_embedding) for t in test['Text'].values]\n",
    "    \n",
    "    return accuracy_score(y_pred, y_test)"
   ]
  },
  {
   "cell_type": "code",
   "execution_count": 387,
   "metadata": {
    "ExecuteTime": {
     "end_time": "2019-09-09T09:01:43.332944Z",
     "start_time": "2019-09-09T08:56:24.474628Z"
    },
    "scrolled": true
   },
   "outputs": [
    {
     "name": "stdout",
     "output_type": "stream",
     "text": [
      "1\n"
     ]
    },
    {
     "name": "stderr",
     "output_type": "stream",
     "text": [
      "/anaconda3/lib/python3.6/site-packages/scipy/spatial/distance.py:698: RuntimeWarning: invalid value encountered in double_scalars\n",
      "  dist = 1.0 - uv / np.sqrt(uu * vv)\n"
     ]
    },
    {
     "name": "stdout",
     "output_type": "stream",
     "text": [
      "2\n",
      "3\n",
      "4\n",
      "5\n",
      "6\n",
      "7\n",
      "8\n",
      "9\n",
      "10\n",
      "11\n",
      "12\n",
      "13\n",
      "14\n",
      "15\n",
      "16\n",
      "17\n",
      "18\n",
      "19\n",
      "20\n",
      "21\n",
      "22\n",
      "23\n",
      "24\n",
      "25\n",
      "26\n",
      "27\n",
      "28\n",
      "29\n",
      "30\n",
      "31\n",
      "32\n",
      "33\n",
      "34\n",
      "35\n",
      "36\n",
      "37\n",
      "38\n",
      "39\n",
      "40\n",
      "41\n",
      "42\n",
      "43\n",
      "44\n",
      "45\n",
      "46\n",
      "47\n",
      "48\n",
      "49\n"
     ]
    }
   ],
   "source": [
    "all_accuracy = {2:[],3:[],4:[],5:[]}\n",
    "\n",
    "for num_samples in range(1,50):\n",
    "    print(num_samples)\n",
    "    for num_cl in range(2, 6):\n",
    "        all_accuracy[num_cl].append(return_score(num_samples,num_cl))"
   ]
  },
  {
   "cell_type": "code",
   "execution_count": 388,
   "metadata": {
    "ExecuteTime": {
     "end_time": "2019-09-09T09:01:43.655756Z",
     "start_time": "2019-09-09T09:01:43.335440Z"
    }
   },
   "outputs": [
    {
     "data": {
      "image/png": "[encoded data removed]",
      "text/plain": [
       "<Figure size 864x576 with 1 Axes>"
      ]
     },
     "metadata": {},
     "output_type": "display_data"
    }
   ],
   "source": [
    "plt.figure(figsize=(12,8))\n",
    "plt.plot(all_accuracy[2], label=\"2 classes\")\n",
    "plt.plot(all_accuracy[3], label=\"3 classes\")\n",
    "plt.plot(all_accuracy[4], label=\"4 classes\")\n",
    "plt.plot(all_accuracy[5], label=\"5 classes\")\n",
    "plt.title(\"Accuracy depending on the number of samples and classes\")\n",
    "plt.legend()\n",
    "plt.show()"
   ]
  },
  {
   "cell_type": "markdown",
   "metadata": {},
   "source": [
    "# Classify Text with K-NN"
   ]
  },
  {
   "cell_type": "markdown",
   "metadata": {},
   "source": [
    "The approach of distance metric is quite restrictive since it relies on comparing the embedding of a sentence (which is itself an average of word embeddings), with the average of the embedding of all training examples within a class."
   ]
  },
  {
   "cell_type": "code",
   "execution_count": 295,
   "metadata": {
    "ExecuteTime": {
     "end_time": "2019-09-09T08:26:48.513230Z",
     "start_time": "2019-09-09T08:26:48.498989Z"
    }
   },
   "outputs": [],
   "source": [
    "def return_score_knn(sample_size, num_classes):\n",
    "    \n",
    "    train, test = gen_sample(sample_size, num_classes)\n",
    "    \n",
    "    X_train = train['Text']\n",
    "    y_train = train['Label'].values\n",
    "    X_test = test['Text']\n",
    "    y_test = test['Label'].values\n",
    "\n",
    "    X_train_mean = X_train.apply(lambda x : transform_sentence(x, model2))\n",
    "    X_test_mean = X_test.apply(lambda x : transform_sentence(x, model2))\n",
    "\n",
    "    X_train_mean = pd.DataFrame(X_train_mean)['Text'].apply(pd.Series)\n",
    "    X_test_mean = pd.DataFrame(X_test_mean)['Text'].apply(pd.Series)\n",
    "        \n",
    "    clf = KNeighborsClassifier(n_neighbors=sample_size, p=2)\n",
    "    clf.fit(X_train_mean, y_train)\n",
    "    \n",
    "    y_pred = clf.predict(X_test_mean)\n",
    "    \n",
    "    return accuracy_score(y_pred, y_test)\n"
   ]
  },
  {
   "cell_type": "code",
   "execution_count": 297,
   "metadata": {
    "ExecuteTime": {
     "end_time": "2019-09-09T08:30:39.165249Z",
     "start_time": "2019-09-09T08:27:51.256413Z"
    }
   },
   "outputs": [
    {
     "name": "stdout",
     "output_type": "stream",
     "text": [
      "1\n",
      "2\n",
      "3\n",
      "4\n",
      "5\n",
      "6\n",
      "7\n",
      "8\n",
      "9\n",
      "10\n",
      "11\n",
      "12\n",
      "13\n",
      "14\n",
      "15\n",
      "16\n",
      "17\n",
      "18\n",
      "19\n",
      "20\n",
      "21\n",
      "22\n",
      "23\n",
      "24\n",
      "25\n",
      "26\n",
      "27\n",
      "28\n",
      "29\n",
      "30\n",
      "31\n",
      "32\n",
      "33\n",
      "34\n",
      "35\n",
      "36\n",
      "37\n",
      "38\n",
      "39\n",
      "40\n",
      "41\n",
      "42\n",
      "43\n",
      "44\n",
      "45\n",
      "46\n",
      "47\n",
      "48\n",
      "49\n"
     ]
    }
   ],
   "source": [
    "all_accuracy_knn = {2:[],3:[],4:[],5:[]}\n",
    "\n",
    "for num_samples in range(1,50):\n",
    "    print(num_samples)\n",
    "    for num_cl in range(2, 6):\n",
    "    \n",
    "        all_accuracy_knn[num_cl].append(return_score_knn(num_samples,num_cl))"
   ]
  },
  {
   "cell_type": "code",
   "execution_count": 298,
   "metadata": {
    "ExecuteTime": {
     "end_time": "2019-09-09T08:30:45.327126Z",
     "start_time": "2019-09-09T08:30:44.887657Z"
    }
   },
   "outputs": [
    {
     "data": {
      "image/png": "[encoded data removed]",
      "text/plain": [
       "<Figure size 864x576 with 1 Axes>"
      ]
     },
     "metadata": {},
     "output_type": "display_data"
    }
   ],
   "source": [
    "plt.figure(figsize=(12,8))\n",
    "plt.plot(all_accuracy_knn[2], label=\"2 classes\")\n",
    "plt.plot(all_accuracy_knn[3], label=\"3 classes\")\n",
    "plt.plot(all_accuracy_knn[4], label=\"4 classes\")\n",
    "plt.plot(all_accuracy_knn[5], label=\"5 classes\")\n",
    "plt.title(\"Accuracy depending on the number of samples and classes\")\n",
    "plt.legend()\n",
    "plt.show()"
   ]
  },
  {
   "cell_type": "code",
   "execution_count": 318,
   "metadata": {
    "ExecuteTime": {
     "end_time": "2019-09-09T08:40:11.146396Z",
     "start_time": "2019-09-09T08:40:11.127797Z"
    }
   },
   "outputs": [],
   "source": [
    "df_results = pd.DataFrame({\n",
    "    'Nb Classes':[2,3,4,5], \n",
    "    'min K-NN':[min(all_accuracy_knn[2]), \n",
    "                min(all_accuracy_knn[3]), \n",
    "                min(all_accuracy_knn[4]), \n",
    "                min(all_accuracy_knn[5])],\n",
    "    'min Cosine':[min(all_accuracy[2]), \n",
    "            min(all_accuracy[3]), \n",
    "            min(all_accuracy[4]), \n",
    "            min(all_accuracy[5])],\n",
    "    'mean K-NN':[np.mean(all_accuracy_knn[2]), \n",
    "                np.mean(all_accuracy_knn[3]), \n",
    "                np.mean(all_accuracy_knn[4]), \n",
    "                np.mean(all_accuracy_knn[5])],\n",
    "    'mean Cosine':[np.mean(all_accuracy[2]), \n",
    "            np.mean(all_accuracy[3]), \n",
    "            np.mean(all_accuracy[4]), \n",
    "            np.mean(all_accuracy[5])],\n",
    "    'max K-NN':[max(all_accuracy_knn[2]), \n",
    "                max(all_accuracy_knn[3]), \n",
    "                max(all_accuracy_knn[4]), \n",
    "                max(all_accuracy_knn[5])],\n",
    "    'max Cosine':[max(all_accuracy[2]), \n",
    "            max(all_accuracy[3]), \n",
    "            max(all_accuracy[4]), \n",
    "            max(all_accuracy[5])]\n",
    "})"
   ]
  },
  {
   "cell_type": "code",
   "execution_count": 319,
   "metadata": {
    "ExecuteTime": {
     "end_time": "2019-09-09T08:40:12.974945Z",
     "start_time": "2019-09-09T08:40:12.965355Z"
    }
   },
   "outputs": [
    {
     "data": {
      "text/html": [
       "<div>\n",
       "<style scoped>\n",
       "    .dataframe tbody tr th:only-of-type {\n",
       "        vertical-align: middle;\n",
       "    }\n",
       "\n",
       "    .dataframe tbody tr th {\n",
       "        vertical-align: top;\n",
       "    }\n",
       "\n",
       "    .dataframe thead th {\n",
       "        text-align: right;\n",
       "    }\n",
       "</style>\n",
       "<table border=\"1\" class=\"dataframe\">\n",
       "  <thead>\n",
       "    <tr style=\"text-align: right;\">\n",
       "      <th></th>\n",
       "      <th>Nb Classes</th>\n",
       "      <th>min K-NN</th>\n",
       "      <th>min Cosine</th>\n",
       "      <th>mean K-NN</th>\n",
       "      <th>mean Cosine</th>\n",
       "      <th>max K-NN</th>\n",
       "      <th>max Cosine</th>\n",
       "    </tr>\n",
       "  </thead>\n",
       "  <tbody>\n",
       "    <tr>\n",
       "      <th>0</th>\n",
       "      <td>2</td>\n",
       "      <td>0.616232</td>\n",
       "      <td>0.580080</td>\n",
       "      <td>0.871889</td>\n",
       "      <td>0.937089</td>\n",
       "      <td>0.964848</td>\n",
       "      <td>0.972222</td>\n",
       "    </tr>\n",
       "    <tr>\n",
       "      <th>1</th>\n",
       "      <td>3</td>\n",
       "      <td>0.408742</td>\n",
       "      <td>0.477811</td>\n",
       "      <td>0.766601</td>\n",
       "      <td>0.626838</td>\n",
       "      <td>0.906863</td>\n",
       "      <td>0.647561</td>\n",
       "    </tr>\n",
       "    <tr>\n",
       "      <th>2</th>\n",
       "      <td>4</td>\n",
       "      <td>0.397796</td>\n",
       "      <td>0.347848</td>\n",
       "      <td>0.663300</td>\n",
       "      <td>0.468872</td>\n",
       "      <td>0.798218</td>\n",
       "      <td>0.487240</td>\n",
       "    </tr>\n",
       "    <tr>\n",
       "      <th>3</th>\n",
       "      <td>5</td>\n",
       "      <td>0.325526</td>\n",
       "      <td>0.313026</td>\n",
       "      <td>0.666633</td>\n",
       "      <td>0.378077</td>\n",
       "      <td>0.803992</td>\n",
       "      <td>0.388235</td>\n",
       "    </tr>\n",
       "  </tbody>\n",
       "</table>\n",
       "</div>"
      ],
      "text/plain": [
       "   Nb Classes  min K-NN  min Cosine  mean K-NN  mean Cosine  max K-NN  \\\n",
       "0           2  0.616232    0.580080   0.871889     0.937089  0.964848   \n",
       "1           3  0.408742    0.477811   0.766601     0.626838  0.906863   \n",
       "2           4  0.397796    0.347848   0.663300     0.468872  0.798218   \n",
       "3           5  0.325526    0.313026   0.666633     0.378077  0.803992   \n",
       "\n",
       "   max Cosine  \n",
       "0    0.972222  \n",
       "1    0.647561  \n",
       "2    0.487240  \n",
       "3    0.388235  "
      ]
     },
     "execution_count": 319,
     "metadata": {},
     "output_type": "execute_result"
    }
   ],
   "source": [
    "df_results"
   ]
  },
  {
   "cell_type": "markdown",
   "metadata": {},
   "source": [
    "# Data Augmentation"
   ]
  },
  {
   "cell_type": "markdown",
   "metadata": {},
   "source": [
    "## Replace words"
   ]
  },
  {
   "cell_type": "code",
   "execution_count": 393,
   "metadata": {
    "ExecuteTime": {
     "end_time": "2019-09-09T09:14:48.109159Z",
     "start_time": "2019-09-09T09:14:48.065409Z"
    }
   },
   "outputs": [],
   "source": [
    "def get_synonyms(word):\n",
    "    \n",
    "    synonyms = set()\n",
    "    \n",
    "    for syn in wordnet.synsets(word): \n",
    "        for l in syn.lemmas(): \n",
    "            synonym = l.name().replace(\"_\", \" \").replace(\"-\", \" \").lower()\n",
    "            synonym = \"\".join([char for char in synonym if char in ' qwertyuiopasdfghjklzxcvbnm'])\n",
    "            synonyms.add(synonym) \n",
    "    \n",
    "    if word in synonyms:\n",
    "        synonyms.remove(word)\n",
    "    \n",
    "    return list(synonyms)\n",
    "\n",
    "def synonym_replacement(words, n):\n",
    "    \n",
    "    words = words.split()\n",
    "    \n",
    "    new_words = words.copy()\n",
    "    random_word_list = list(set([word for word in words if word not in stop_words]))\n",
    "    random.shuffle(random_word_list)\n",
    "    num_replaced = 0\n",
    "    \n",
    "    for random_word in random_word_list:\n",
    "        synonyms = get_synonyms(random_word)\n",
    "        \n",
    "        if len(synonyms) >= 1:\n",
    "            synonym = random.choice(list(synonyms))\n",
    "            new_words = [synonym if word == random_word else word for word in new_words]\n",
    "            #print(\"replaced\", random_word, \"with\", synonym)\n",
    "            num_replaced += 1\n",
    "        \n",
    "        if num_replaced >= n: #only replace up to n words\n",
    "            break\n",
    "\n",
    "    sentence = ' '.join(new_words)\n",
    "\n",
    "    return sentence\n",
    "\n",
    "def iterative_replace(df):\n",
    "    \n",
    "    df = df.reset_index().drop(['index'], axis=1)\n",
    "    index_row = df.index\n",
    "    df_2 = pd.DataFrame()\n",
    "    \n",
    "    for row in index_row:\n",
    "        for k in range(1,6):\n",
    "            df_2 = df_2.append({'Text':synonym_replacement(df.loc[row]['Text'], k), 'Label':df.loc[row]['Label']}, ignore_index=True)\n",
    "    return df_2"
   ]
  },
  {
   "cell_type": "markdown",
   "metadata": {},
   "source": [
    "## Delete words"
   ]
  },
  {
   "cell_type": "code",
   "execution_count": 392,
   "metadata": {
    "ExecuteTime": {
     "end_time": "2019-09-09T09:14:46.940038Z",
     "start_time": "2019-09-09T09:14:46.923036Z"
    }
   },
   "outputs": [],
   "source": [
    "def random_deletion(words, p):\n",
    "\n",
    "    words = words.split()\n",
    "    \n",
    "    #obviously, if there's only one word, don't delete it\n",
    "    if len(words) == 1:\n",
    "        return words\n",
    "\n",
    "    #randomly delete words with probability p\n",
    "    new_words = []\n",
    "    for word in words:\n",
    "        r = random.uniform(0, 1)\n",
    "        if r > p:\n",
    "            new_words.append(word)\n",
    "\n",
    "    #if you end up deleting all words, just return a random word\n",
    "    if len(new_words) == 0:\n",
    "        rand_int = random.randint(0, len(words)-1)\n",
    "        return [words[rand_int]]\n",
    "\n",
    "    sentence = ' '.join(new_words)\n",
    "    \n",
    "    return sentence\n",
    "\n",
    "def iterative_delete(df):\n",
    "    \n",
    "    df = df.reset_index().drop(['index'], axis=1)\n",
    "    index_row = df.index\n",
    "    df_2 = pd.DataFrame()\n",
    "    \n",
    "    for row in index_row:\n",
    "        df_2 = df_2.append({'Text':random_deletion(df.loc[row]['Text'], 0.25), 'Label':df.loc[row]['Label']}, ignore_index=True)\n",
    "    return df_2"
   ]
  },
  {
   "cell_type": "markdown",
   "metadata": {},
   "source": [
    "## Random Swap"
   ]
  },
  {
   "cell_type": "code",
   "execution_count": 391,
   "metadata": {
    "ExecuteTime": {
     "end_time": "2019-09-09T09:14:45.854512Z",
     "start_time": "2019-09-09T09:14:45.825357Z"
    }
   },
   "outputs": [],
   "source": [
    "def random_swap(words, n):\n",
    "    \n",
    "    words = words.split()\n",
    "    new_words = words.copy()\n",
    "    \n",
    "    for _ in range(n):\n",
    "        new_words = swap_word(new_words)\n",
    "        \n",
    "    sentence = ' '.join(new_words)\n",
    "    \n",
    "    return sentence\n",
    "\n",
    "def swap_word(new_words):\n",
    "    \n",
    "    random_idx_1 = random.randint(0, len(new_words)-1)\n",
    "    random_idx_2 = random_idx_1\n",
    "    counter = 0\n",
    "    \n",
    "    while random_idx_2 == random_idx_1:\n",
    "        random_idx_2 = random.randint(0, len(new_words)-1)\n",
    "        counter += 1\n",
    "        \n",
    "        if counter > 3:\n",
    "            return new_words\n",
    "    \n",
    "    new_words[random_idx_1], new_words[random_idx_2] = new_words[random_idx_2], new_words[random_idx_1] \n",
    "    return new_words\n",
    "\n",
    "def iterative_swap(df):\n",
    "    \n",
    "    df = df.reset_index().drop(['index'], axis=1)\n",
    "    index_row = df.index\n",
    "    df_2 = pd.DataFrame()\n",
    "    for row in index_row:\n",
    "        df_2 = df_2.append({'Text':random_swap(df.loc[row]['Text'], 2), 'Label':df.loc[row]['Label']}, ignore_index=True)\n",
    "    return df_2"
   ]
  },
  {
   "cell_type": "markdown",
   "metadata": {},
   "source": [
    "## Random Insertion"
   ]
  },
  {
   "cell_type": "code",
   "execution_count": 390,
   "metadata": {
    "ExecuteTime": {
     "end_time": "2019-09-09T09:14:44.659445Z",
     "start_time": "2019-09-09T09:14:44.635288Z"
    }
   },
   "outputs": [],
   "source": [
    "def random_insertion(words, n):\n",
    "    \n",
    "    words = words.split()\n",
    "    new_words = words.copy()\n",
    "    \n",
    "    for _ in range(n):\n",
    "        add_word(new_words)\n",
    "        \n",
    "    sentence = ' '.join(new_words)\n",
    "    return sentence\n",
    "\n",
    "def add_word(new_words):\n",
    "    \n",
    "    synonyms = []\n",
    "    counter = 0\n",
    "    \n",
    "    while len(synonyms) < 1:\n",
    "        random_word = new_words[random.randint(0, len(new_words)-1)]\n",
    "        synonyms = get_synonyms(random_word)\n",
    "        counter += 1\n",
    "        if counter >= 10:\n",
    "            return\n",
    "        \n",
    "    random_synonym = synonyms[0]\n",
    "    random_idx = random.randint(0, len(new_words)-1)\n",
    "    new_words.insert(random_idx, random_synonym)\n",
    "    \n",
    "def iterative_insert(df):\n",
    "    \n",
    "    df = df.reset_index().drop(['index'], axis=1)\n",
    "    index_row = df.index\n",
    "    df_2 = pd.DataFrame()\n",
    "    \n",
    "    for row in index_row:\n",
    "        df_2 = df_2.append({'Text':random_insertion(df.loc[row]['Text'], 2), 'Label':df.loc[row]['Label']}, ignore_index=True)\n",
    "        \n",
    "    return df_2"
   ]
  },
  {
   "cell_type": "markdown",
   "metadata": {},
   "source": [
    "## Data Augmentation"
   ]
  },
  {
   "cell_type": "code",
   "execution_count": null,
   "metadata": {},
   "outputs": [],
   "source": [
    "df_replace = iterative_replace(train)\n",
    "df_delete = iterative_delete(train)\n",
    "df_swap = iterative_swap(train)\n",
    "df_insert = iterative_insert(train)\n",
    "\n",
    "train = pd.concat([train, df_replace, df_delete, df_swap, df_insert], axis=0).reset_index().drop(['index'], axis=1)"
   ]
  },
  {
   "cell_type": "code",
   "execution_count": null,
   "metadata": {},
   "outputs": [],
   "source": [
    "df_replace = iterative_replace(train)\n",
    "df_delete = iterative_delete(train)\n",
    "df_swap = iterative_swap(train)\n",
    "df_insert = iterative_insert(train)\n",
    "\n",
    "train = pd.concat([train, df_replace, df_delete, df_swap, df_insert], axis=0).reset_index().drop(['index'], axis=1)"
   ]
  },
  {
   "cell_type": "code",
   "execution_count": null,
   "metadata": {},
   "outputs": [],
   "source": [
    "X_train = train['Text']\n",
    "y_train = train['Label'].values\n",
    "X_test = test['Text']\n",
    "y_test = test['Label'].values\n",
    "\n",
    "X_train_mean = X_train.apply(lambda x : transform_sentence(x, model2))\n",
    "X_test_mean = X_test.apply(lambda x : transform_sentence(x, model2))\n",
    "\n",
    "X_train_mean = pd.DataFrame(X_train_mean)['Text'].apply(pd.Series)\n",
    "X_test_mean = pd.DataFrame(X_test_mean)['Text'].apply(pd.Series)"
   ]
  },
  {
   "cell_type": "markdown",
   "metadata": {},
   "source": [
    "### Cosine"
   ]
  },
  {
   "cell_type": "code",
   "execution_count": null,
   "metadata": {},
   "outputs": [],
   "source": [
    "all_accuracy_aug = {2:[],3:[],4:[],5:[]}\n",
    "\n",
    "for num_samples in range(1,50):\n",
    "    print(num_samples)\n",
    "    for num_cl in range(2, 6):\n",
    "        all_accuracy_aug[num_cl].append(return_score(num_samples,num_cl))"
   ]
  },
  {
   "cell_type": "code",
   "execution_count": null,
   "metadata": {},
   "outputs": [],
   "source": [
    "plt.figure(figsize=(12,8))\n",
    "plt.plot(all_accuracy_aug[2], label=\"2 classes\")\n",
    "plt.plot(all_accuracy_aug[3], label=\"3 classes\")\n",
    "plt.plot(all_accuracy_aug[4], label=\"4 classes\")\n",
    "plt.plot(all_accuracy_aug[5], label=\"5 classes\")\n",
    "plt.title(\"Accuracy depending on the number of samples and classes\")\n",
    "plt.legend()\n",
    "plt.show()"
   ]
  },
  {
   "cell_type": "markdown",
   "metadata": {},
   "source": [
    "### K-NN"
   ]
  },
  {
   "cell_type": "code",
   "execution_count": null,
   "metadata": {},
   "outputs": [],
   "source": [
    "all_accuracy_knn_aug = {2:[],3:[],4:[],5:[]}\n",
    "\n",
    "for num_samples in range(1,50):\n",
    "    print(num_samples)\n",
    "    for num_cl in range(2, 6):\n",
    "    \n",
    "        all_accuracy_knn_aug[num_cl].append(return_score_knn(num_samples,num_cl))"
   ]
  },
  {
   "cell_type": "code",
   "execution_count": null,
   "metadata": {},
   "outputs": [],
   "source": [
    "plt.figure(figsize=(12,8))\n",
    "plt.plot(all_accuracy_knn_aug[2], label=\"2 classes\")\n",
    "plt.plot(all_accuracy_knn_aug[3], label=\"3 classes\")\n",
    "plt.plot(all_accuracy_knn_aug[4], label=\"4 classes\")\n",
    "plt.plot(all_accuracy_knn_aug[5], label=\"5 classes\")\n",
    "plt.title(\"Accuracy depending on the number of samples and classes\")\n",
    "plt.legend()\n",
    "plt.show()"
   ]
  },
  {
   "cell_type": "markdown",
   "metadata": {},
   "source": [
    "# Summary"
   ]
  },
  {
   "cell_type": "code",
   "execution_count": null,
   "metadata": {},
   "outputs": [],
   "source": [
    "df_results = pd.DataFrame({\n",
    "    'Nb Classes':[2,3,4,5], \n",
    "    'min K-NN':[min(all_accuracy_knn[2]), \n",
    "                min(all_accuracy_knn[3]), \n",
    "                min(all_accuracy_knn[4]), \n",
    "                min(all_accuracy_knn[5])],\n",
    "    'min Cosine':[min(all_accuracy[2]), \n",
    "            min(all_accuracy[3]), \n",
    "            min(all_accuracy[4]), \n",
    "            min(all_accuracy[5])],\n",
    "    'min K-NN Aug.':[min(all_accuracy_knn_aug[2]), \n",
    "                min(all_accuracy_knn_aug[3]), \n",
    "                min(all_accuracy_knn_aug[4]), \n",
    "                min(all_accuracy_knn_aug[5])],\n",
    "    'min Cosine Aug.':[min(all_accuracy_aug[2]), \n",
    "            min(all_accuracy_aug[3]), \n",
    "            min(all_accuracy_aug[4]), \n",
    "            min(all_accuracy_aug[5])],\n",
    "    'mean K-NN':[np.mean(all_accuracy_knn[2]), \n",
    "                np.mean(all_accuracy_knn[3]), \n",
    "                np.mean(all_accuracy_knn[4]), \n",
    "                np.mean(all_accuracy_knn[5])],\n",
    "    'mean Cosine':[np.mean(all_accuracy[2]), \n",
    "            np.mean(all_accuracy[3]), \n",
    "            np.mean(all_accuracy[4]), \n",
    "            np.mean(all_accuracy[5])],\n",
    "    'mean K-NN Aug.':[np.mean(all_accuracy_knn_aug[2]), \n",
    "                np.mean(all_accuracy_knn_aug[3]), \n",
    "                np.mean(all_accuracy_knn_aug[4]), \n",
    "                np.mean(all_accuracy_knn_aug[5])],\n",
    "    'mean Cosine Aug.':[np.mean(all_accuracy_aug[2]), \n",
    "            np.mean(all_accuracy_aug[3]), \n",
    "            np.mean(all_accuracy_aug[4]), \n",
    "            np.mean(all_accuracy_aug[5])],\n",
    "    'max K-NN':[max(all_accuracy_knn[2]), \n",
    "                max(all_accuracy_knn[3]), \n",
    "                max(all_accuracy_knn[4]), \n",
    "                max(all_accuracy_knn[5])],\n",
    "    'max Cosine':[max(all_accuracy[2]), \n",
    "            max(all_accuracy[3]), \n",
    "            max(all_accuracy[4]), \n",
    "            max(all_accuracy[5])]\n",
    "    'max K-NN Aug.':[max(all_accuracy_knn[2]), \n",
    "                max(all_accuracy_knn[3]), \n",
    "                max(all_accuracy_knn[4]), \n",
    "                max(all_accuracy_knn[5])],\n",
    "    'max Cosine Aug.':[max(all_accuracy[2]), \n",
    "            max(all_accuracy[3]), \n",
    "            max(all_accuracy[4]), \n",
    "            max(all_accuracy[5])]\n",
    "})"
   ]
  }
 ],
 "metadata": {
  "kernelspec": {
   "display_name": "Python 3",
   "language": "python",
   "name": "python3"
  },
  "language_info": {
   "codemirror_mode": {
    "name": "ipython",
    "version": 3
   },
   "file_extension": ".py",
   "mimetype": "text/x-python",
   "name": "python",
   "nbconvert_exporter": "python",
   "pygments_lexer": "ipython3",
   "version": "3.6.5"
  },
  "latex_envs": {
   "LaTeX_envs_menu_present": true,
   "autoclose": false,
   "autocomplete": true,
   "bibliofile": "biblio.bib",
   "cite_by": "apalike",
   "current_citInitial": 1,
   "eqLabelWithNumbers": true,
   "eqNumInitial": 1,
   "hotkeys": {
    "equation": "Ctrl-E",
    "itemize": "Ctrl-I"
   },
   "labels_anchors": false,
   "latex_user_defs": false,
   "report_style_numbering": false,
   "user_envs_cfg": false
  }
 },
 "nbformat": 4,
 "nbformat_minor": 2
}
