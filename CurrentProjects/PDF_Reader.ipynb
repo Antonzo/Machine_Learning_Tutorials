{
 "cells": [
  {
   "cell_type": "code",
   "execution_count": 1,
   "metadata": {
    "ExecuteTime": {
     "end_time": "2019-05-24T16:14:32.405841Z",
     "start_time": "2019-05-24T16:13:55.125976Z"
    }
   },
   "outputs": [
    {
     "name": "stderr",
     "output_type": "stream",
     "text": [
      "/anaconda3/lib/python3.6/site-packages/requests/__init__.py:80: RequestsDependencyWarning: urllib3 (1.21.1) or chardet (2.3.0) doesn't match a supported version!\n",
      "  RequestsDependencyWarning)\n",
      "2019-05-24 18:13:55,298 [MainThread  ] [INFO ]  Retrieving http://search.maven.org/remotecontent?filepath=org/apache/tika/tika-server/1.19/tika-server-1.19.jar to /var/folders/9l/ss26hnmx6qbcmddtxw8jmvy80000gn/T/tika-server.jar.\n",
      "2019-05-24 18:14:13,102 [MainThread  ] [INFO ]  Retrieving http://search.maven.org/remotecontent?filepath=org/apache/tika/tika-server/1.19/tika-server-1.19.jar.md5 to /var/folders/9l/ss26hnmx6qbcmddtxw8jmvy80000gn/T/tika-server.jar.md5.\n",
      "2019-05-24 18:14:13,491 [MainThread  ] [WARNI]  Failed to see startup log message; retrying...\n"
     ]
    },
    {
     "name": "stdout",
     "output_type": "stream",
     "text": [
      "\n",
      "\n",
      "\n",
      "\n",
      "\n",
      "\n",
      "\n",
      "\n",
      "\n",
      "\n",
      "\n",
      "\n",
      "\n",
      "\n",
      "\n",
      "\n",
      "\n",
      "\n",
      "\n",
      "\n",
      "\n",
      "\n",
      "\n",
      "\n",
      "\n",
      "\n",
      "\n",
      "\n",
      "\n",
      "\n",
      "\n",
      "\n",
      "\n",
      "\n",
      "\n",
      "\n",
      "\n",
      "\n",
      "\n",
      "\n",
      "\n",
      "\n",
      "\n",
      "\n",
      " \n",
      "\n",
      "Ecole des HEC  University of Lausanne  Extranef 228  CH – 1015 Lausanne \n",
      "\n",
      " \n",
      " \n",
      "\n",
      " \n",
      " \n",
      "\n",
      "Letter of recommendation for Mael Fabien  \n",
      " \n",
      " \n",
      "February 10, 2016 \n",
      " \n",
      " \n",
      " \n",
      "Dear Recruiting Committee, \n",
      " \n",
      "It is my pleasure to recommend Mael Fabien for a position at your institution. I have known Mael since \n",
      "September 2015 when he took my Corporate Finance class at the University of Lausanne. Since then, I \n",
      "have closely interacted with him in and outside the classroom.  \n",
      " \n",
      "Mael was one of the best students I had in my class this academic year. In particular, he ranked 8th   in a \n",
      "class of 281 students and so obtained the maximum score. The class is based on both lectures and case \n",
      "studies discussions. In class, Mael consistently showed excellent analytical skills but also the ability to \n",
      "engage and lead high quality case studies discussions.  \n",
      " \n",
      "I had also the opportunity to interact with Mael outside of the classroom. I was impressed by his broad \n",
      "knowledge of financial markets and his strong enthusiasm and dedication.  \n",
      " \n",
      "In summary, Mael presents the qualities of a very talented and promising graduate and I highly \n",
      "recommend that you consider his application with the utmost attention.  \n",
      " \n",
      "Please, do not hesitate to contact me for any further information.  \n",
      " \n",
      "Yours sincerely, \n",
      " \n",
      "\n",
      " \n",
      " \n",
      "Boris Nikolov \n",
      "\n",
      "Boris Nikolov \n",
      "Assistant Professor of Finance \n",
      "\n",
      "Phone: ++ 41 (0)21 692 6126 \n",
      "Fax: ++ 41 (0)21 692 3435 \n",
      "Email: boris.nikolov@unil.ch \n",
      "\n",
      "\n",
      "\n"
     ]
    }
   ],
   "source": [
    "from tika import parser\n",
    "\n",
    "raw = parser.from_file('Finance.pdf')\n",
    "print(raw['content'])"
   ]
  }
 ],
 "metadata": {
  "kernelspec": {
   "display_name": "Python 3",
   "language": "python",
   "name": "python3"
  },
  "language_info": {
   "codemirror_mode": {
    "name": "ipython",
    "version": 3
   },
   "file_extension": ".py",
   "mimetype": "text/x-python",
   "name": "python",
   "nbconvert_exporter": "python",
   "pygments_lexer": "ipython3",
   "version": "3.6.5"
  },
  "latex_envs": {
   "LaTeX_envs_menu_present": true,
   "autoclose": false,
   "autocomplete": true,
   "bibliofile": "biblio.bib",
   "cite_by": "apalike",
   "current_citInitial": 1,
   "eqLabelWithNumbers": true,
   "eqNumInitial": 1,
   "hotkeys": {
    "equation": "Ctrl-E",
    "itemize": "Ctrl-I"
   },
   "labels_anchors": false,
   "latex_user_defs": false,
   "report_style_numbering": false,
   "user_envs_cfg": false
  }
 },
 "nbformat": 4,
 "nbformat_minor": 2
}
