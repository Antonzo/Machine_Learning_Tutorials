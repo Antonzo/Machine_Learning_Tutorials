{
 "cells": [
  {
   "cell_type": "markdown",
   "metadata": {},
   "source": [
    "<center><h1> Autoencoder on the MNIST dataset </h1></center>\n",
    "\n",
    "\n",
    "<center> Keras functional API </center>"
   ]
  },
  {
   "cell_type": "markdown",
   "metadata": {},
   "source": [
    "# Import"
   ]
  },
  {
   "cell_type": "code",
   "execution_count": 2,
   "metadata": {
    "ExecuteTime": {
     "end_time": "2019-03-09T15:45:33.926732Z",
     "start_time": "2019-03-09T15:45:33.915208Z"
    }
   },
   "outputs": [],
   "source": [
    "### General Imports ###\n",
    "import pandas as pd\n",
    "import numpy as np\n",
    "import matplotlib.pyplot as plt\n",
    "\n",
    "### Autoencoder ###\n",
    "import tensorflow as tf\n",
    "import tensorflow.keras\n",
    "\n",
    "from tensorflow.keras import models, layers\n",
    "from tensorflow.keras.models import Model, model_from_json\n",
    "\n",
    "from tensorflow.keras.layers import Dense, Dropout, Activation, Flatten, Conv2D, MaxPooling2D, UpSampling2D, Input\n",
    "\n",
    "from tensorflow.keras.datasets import mnist\n"
   ]
  },
  {
   "cell_type": "markdown",
   "metadata": {},
   "source": [
    "# Load data"
   ]
  },
  {
   "cell_type": "code",
   "execution_count": 6,
   "metadata": {
    "ExecuteTime": {
     "end_time": "2019-03-09T15:49:50.624230Z",
     "start_time": "2019-03-09T15:49:50.218266Z"
    }
   },
   "outputs": [],
   "source": [
    "(X_train, _), (X_test, _) = mnist.load_data()"
   ]
  },
  {
   "cell_type": "code",
   "execution_count": 7,
   "metadata": {
    "ExecuteTime": {
     "end_time": "2019-03-09T15:50:14.052197Z",
     "start_time": "2019-03-09T15:50:14.042741Z"
    }
   },
   "outputs": [
    {
     "data": {
      "text/plain": [
       "(60000, 28, 28)"
      ]
     },
     "execution_count": 7,
     "metadata": {},
     "output_type": "execute_result"
    }
   ],
   "source": [
    "X_train.shape"
   ]
  },
  {
   "cell_type": "code",
   "execution_count": 8,
   "metadata": {
    "ExecuteTime": {
     "end_time": "2019-03-09T15:50:26.678655Z",
     "start_time": "2019-03-09T15:50:26.675172Z"
    }
   },
   "outputs": [],
   "source": [
    "shape_x = 28\n",
    "shape_y = 28"
   ]
  },
  {
   "cell_type": "code",
   "execution_count": 9,
   "metadata": {
    "ExecuteTime": {
     "end_time": "2019-03-09T15:50:58.531506Z",
     "start_time": "2019-03-09T15:50:58.322992Z"
    }
   },
   "outputs": [],
   "source": [
    "X_train = X_train.astype('float32') / 255.\n",
    "X_test = X_test.astype('float32') / 255."
   ]
  },
  {
   "cell_type": "code",
   "execution_count": 11,
   "metadata": {
    "ExecuteTime": {
     "end_time": "2019-03-09T15:51:26.209138Z",
     "start_time": "2019-03-09T15:51:26.205120Z"
    }
   },
   "outputs": [],
   "source": [
    "X_train = X_train.reshape(-1,shape_x,shape_y,1)\n",
    "X_test = X_test.reshape(-1,shape_x,shape_y,1)"
   ]
  },
  {
   "cell_type": "markdown",
   "metadata": {},
   "source": [
    "# Build the model"
   ]
  },
  {
   "cell_type": "code",
   "execution_count": 16,
   "metadata": {
    "ExecuteTime": {
     "end_time": "2019-03-09T15:59:11.609524Z",
     "start_time": "2019-03-09T15:59:11.456038Z"
    }
   },
   "outputs": [],
   "source": [
    "input_img = Input(shape=(shape_x, shape_y, 1))\n",
    "\n",
    "# Ecoding\n",
    "x = Conv2D(16, (3, 3), padding='same', activation='relu')(input_img)\n",
    "x = MaxPooling2D(pool_size=(2,2), padding='same')(x)\n",
    "x = Conv2D(1,(3, 3), padding='same', activation='relu')(x)\n",
    "encoded = MaxPooling2D(pool_size=(2,2), padding='same')(x)\n",
    " \n",
    "# Decoding\n",
    "x = Conv2D(1,(3, 3), padding='same', activation='relu')(encoded)\n",
    "x = UpSampling2D((2, 2))(x)\n",
    "x = Conv2D(16,(3, 3), padding='same', activation='relu')(x)\n",
    "x = UpSampling2D((2, 2))(x)\n",
    "x = Conv2D(1,(3, 3), padding='same')(x)\n",
    "\n",
    "decoded = Activation('linear')(x)"
   ]
  },
  {
   "cell_type": "code",
   "execution_count": 17,
   "metadata": {
    "ExecuteTime": {
     "end_time": "2019-03-09T15:59:12.285593Z",
     "start_time": "2019-03-09T15:59:12.227286Z"
    }
   },
   "outputs": [
    {
     "name": "stdout",
     "output_type": "stream",
     "text": [
      "_________________________________________________________________\n",
      "Layer (type)                 Output Shape              Param #   \n",
      "=================================================================\n",
      "input_3 (InputLayer)         (None, 28, 28, 1)         0         \n",
      "_________________________________________________________________\n",
      "conv2d_10 (Conv2D)           (None, 28, 28, 16)        160       \n",
      "_________________________________________________________________\n",
      "max_pooling2d_4 (MaxPooling2 (None, 14, 14, 16)        0         \n",
      "_________________________________________________________________\n",
      "conv2d_11 (Conv2D)           (None, 14, 14, 1)         145       \n",
      "_________________________________________________________________\n",
      "max_pooling2d_5 (MaxPooling2 (None, 7, 7, 1)           0         \n",
      "_________________________________________________________________\n",
      "conv2d_12 (Conv2D)           (None, 7, 7, 1)           10        \n",
      "_________________________________________________________________\n",
      "up_sampling2d_4 (UpSampling2 (None, 14, 14, 1)         0         \n",
      "_________________________________________________________________\n",
      "conv2d_13 (Conv2D)           (None, 14, 14, 16)        160       \n",
      "_________________________________________________________________\n",
      "up_sampling2d_5 (UpSampling2 (None, 28, 28, 16)        0         \n",
      "_________________________________________________________________\n",
      "conv2d_14 (Conv2D)           (None, 28, 28, 1)         145       \n",
      "_________________________________________________________________\n",
      "activation_2 (Activation)    (None, 28, 28, 1)         0         \n",
      "=================================================================\n",
      "Total params: 620\n",
      "Trainable params: 620\n",
      "Non-trainable params: 0\n",
      "_________________________________________________________________\n"
     ]
    }
   ],
   "source": [
    "autoencoder = Model(input_img, decoded)\n",
    "autoencoder.compile(optimizer='adadelta', loss='mean_squared_error')\n",
    "autoencoder.summary()"
   ]
  },
  {
   "cell_type": "code",
   "execution_count": 18,
   "metadata": {
    "ExecuteTime": {
     "end_time": "2019-03-09T16:22:36.124405Z",
     "start_time": "2019-03-09T16:10:54.078924Z"
    }
   },
   "outputs": [
    {
     "name": "stdout",
     "output_type": "stream",
     "text": [
      "WARNING:tensorflow:The `nb_epoch` argument in `fit` has been renamed `epochs`.\n",
      "Train on 54000 samples, validate on 6000 samples\n",
      "Epoch 1/15\n",
      "54000/54000 [==============================] - 43s 787us/step - loss: 0.0864 - val_loss: 0.0849\n",
      "Epoch 2/15\n",
      "54000/54000 [==============================] - 46s 858us/step - loss: 0.0716 - val_loss: 0.0452\n",
      "Epoch 3/15\n",
      "54000/54000 [==============================] - 51s 946us/step - loss: 0.0392 - val_loss: 0.0368\n",
      "Epoch 4/15\n",
      "54000/54000 [==============================] - 50s 930us/step - loss: 0.0337 - val_loss: 0.0324\n",
      "Epoch 5/15\n",
      "54000/54000 [==============================] - 44s 808us/step - loss: 0.0319 - val_loss: 0.0320\n",
      "Epoch 6/15\n",
      "54000/54000 [==============================] - 48s 892us/step - loss: 0.0313 - val_loss: 0.0315\n",
      "Epoch 7/15\n",
      "54000/54000 [==============================] - 47s 873us/step - loss: 0.0307 - val_loss: 0.0320\n",
      "Epoch 8/15\n",
      "54000/54000 [==============================] - 53s 983us/step - loss: 0.0305 - val_loss: 0.0318\n",
      "Epoch 9/15\n",
      "54000/54000 [==============================] - 42s 785us/step - loss: 0.0303 - val_loss: 0.0318\n",
      "Epoch 10/15\n",
      "54000/54000 [==============================] - 43s 801us/step - loss: 0.0299 - val_loss: 0.0299\n",
      "Epoch 11/15\n",
      "54000/54000 [==============================] - 44s 817us/step - loss: 0.0296 - val_loss: 0.0294\n",
      "Epoch 12/15\n",
      "54000/54000 [==============================] - 45s 830us/step - loss: 0.0297 - val_loss: 0.0295\n",
      "Epoch 13/15\n",
      "54000/54000 [==============================] - 44s 810us/step - loss: 0.0296 - val_loss: 0.0311\n",
      "Epoch 14/15\n",
      "54000/54000 [==============================] - 48s 891us/step - loss: 0.0296 - val_loss: 0.0299\n",
      "Epoch 15/15\n",
      "54000/54000 [==============================] - 53s 979us/step - loss: 0.0295 - val_loss: 0.0296\n"
     ]
    },
    {
     "data": {
      "text/plain": [
       "<tensorflow.python.keras.callbacks.History at 0xb3e702ba8>"
      ]
     },
     "execution_count": 18,
     "metadata": {},
     "output_type": "execute_result"
    }
   ],
   "source": [
    "autoencoder.fit(X_train, X_train, nb_epoch = 15, batch_size = 64, validation_split = 0.1)"
   ]
  },
  {
   "cell_type": "code",
   "execution_count": 19,
   "metadata": {
    "ExecuteTime": {
     "end_time": "2019-03-09T16:22:44.034908Z",
     "start_time": "2019-03-09T16:22:44.029427Z"
    }
   },
   "outputs": [],
   "source": [
    "encoder = Model(inputs = input_img, outputs = encoded)"
   ]
  },
  {
   "cell_type": "markdown",
   "metadata": {},
   "source": [
    "# Visualize the output"
   ]
  },
  {
   "cell_type": "markdown",
   "metadata": {
    "ExecuteTime": {
     "end_time": "2019-03-09T16:35:37.755704Z",
     "start_time": "2019-03-09T16:35:37.752490Z"
    }
   },
   "source": [
    "### Encoded images"
   ]
  },
  {
   "cell_type": "code",
   "execution_count": 33,
   "metadata": {
    "ExecuteTime": {
     "end_time": "2019-03-09T16:34:58.056145Z",
     "start_time": "2019-03-09T16:34:56.848807Z"
    }
   },
   "outputs": [],
   "source": [
    "encoded_imgs = encoder.predict(X_test)"
   ]
  },
  {
   "cell_type": "code",
   "execution_count": 34,
   "metadata": {
    "ExecuteTime": {
     "end_time": "2019-03-09T16:35:21.416808Z",
     "start_time": "2019-03-09T16:35:21.037827Z"
    }
   },
   "outputs": [
    {
     "data": {
      "image/png": "[encoded data removed]",
      "text/plain": [
       "<Figure size 1440x288 with 10 Axes>"
      ]
     },
     "metadata": {},
     "output_type": "display_data"
    }
   ],
   "source": [
    "n = 10  \n",
    "plt.figure(figsize=(20, 4))\n",
    "\n",
    "for i in range(n):\n",
    "    ax = plt.subplot(2, n, i + 1 + n)\n",
    "    plt.imshow(encoded_imgs[i].reshape(7, 7))\n",
    "    plt.gray()\n",
    "    ax.get_xaxis().set_visible(False)\n",
    "    ax.get_yaxis().set_visible(False)\n",
    "plt.show()"
   ]
  },
  {
   "cell_type": "markdown",
   "metadata": {
    "ExecuteTime": {
     "end_time": "2019-03-09T16:35:37.755704Z",
     "start_time": "2019-03-09T16:35:37.752490Z"
    }
   },
   "source": [
    "### Decoded images"
   ]
  },
  {
   "cell_type": "code",
   "execution_count": 31,
   "metadata": {
    "ExecuteTime": {
     "end_time": "2019-03-09T16:27:39.345268Z",
     "start_time": "2019-03-09T16:27:36.056972Z"
    }
   },
   "outputs": [],
   "source": [
    "decoded_imgs = autoencoder.predict(X_test)"
   ]
  },
  {
   "cell_type": "code",
   "execution_count": 32,
   "metadata": {
    "ExecuteTime": {
     "end_time": "2019-03-09T16:27:44.223181Z",
     "start_time": "2019-03-09T16:27:43.562198Z"
    }
   },
   "outputs": [
    {
     "data": {
      "image/png": "[encoded data removed]",
      "text/plain": [
       "<Figure size 1440x288 with 20 Axes>"
      ]
     },
     "metadata": {},
     "output_type": "display_data"
    }
   ],
   "source": [
    "n = 10  \n",
    "plt.figure(figsize=(20, 4))\n",
    "\n",
    "for i in range(n):\n",
    "    # display original\n",
    "    ax = plt.subplot(2, n, i + 1)\n",
    "    plt.imshow(x_test[i].reshape(28, 28))\n",
    "    plt.gray()\n",
    "    ax.get_xaxis().set_visible(False)\n",
    "    ax.get_yaxis().set_visible(False)\n",
    "\n",
    "    # display reconstruction\n",
    "    ax = plt.subplot(2, n, i + 1 + n)\n",
    "    plt.imshow(decoded_imgs[i].reshape(28, 28))\n",
    "    plt.gray()\n",
    "    ax.get_xaxis().set_visible(False)\n",
    "    ax.get_yaxis().set_visible(False)\n",
    "plt.show()"
   ]
  }
 ],
 "metadata": {
  "kernelspec": {
   "display_name": "Python 3",
   "language": "python",
   "name": "python3"
  },
  "language_info": {
   "codemirror_mode": {
    "name": "ipython",
    "version": 3
   },
   "file_extension": ".py",
   "mimetype": "text/x-python",
   "name": "python",
   "nbconvert_exporter": "python",
   "pygments_lexer": "ipython3",
   "version": "3.6.5"
  },
  "latex_envs": {
   "LaTeX_envs_menu_present": true,
   "autoclose": false,
   "autocomplete": true,
   "bibliofile": "biblio.bib",
   "cite_by": "apalike",
   "current_citInitial": 1,
   "eqLabelWithNumbers": true,
   "eqNumInitial": 1,
   "hotkeys": {
    "equation": "Ctrl-E",
    "itemize": "Ctrl-I"
   },
   "labels_anchors": false,
   "latex_user_defs": false,
   "report_style_numbering": false,
   "user_envs_cfg": false
  }
 },
 "nbformat": 4,
 "nbformat_minor": 2
}
